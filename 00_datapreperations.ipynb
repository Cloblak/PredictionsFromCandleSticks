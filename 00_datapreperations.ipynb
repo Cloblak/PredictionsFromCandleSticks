{
 "cells": [
  {
   "cell_type": "code",
   "execution_count": 1,
   "id": "494edb65-864b-4691-8c8c-4a9f9a4017a3",
   "metadata": {},
   "outputs": [],
   "source": [
    "# Import Dependencies\n",
    "import numpy as np\n",
    "import pandas as pd\n",
    "import alpaca_trade_api as tradeapi\n",
    "from datetime import datetime, timedelta, tzinfo, timezone, time,  date\n",
    "import os\n",
    "import sys\n",
    "import ast\n",
    "import threading\n",
    "import math\n",
    "import seaborn as sns\n",
    "import matplotlib.pyplot as plt\n",
    "import warnings\n",
    "from alive_progress import alive_bar\n",
    "import mplfinance as fplt\n",
    "import IPython.display as IPydisplay\n",
    "\n",
    "try:\n",
    "    from config import *\n",
    "except:\n",
    "    from ..config import *\n",
    "\n",
    "# Establish api from where the data will be pulled\n",
    "api_paper = tradeapi.REST(PAPER_API_KEY, PAPER_SECRET_KEY, PAPER_BASE_URL, api_version='v2')"
   ]
  },
  {
   "cell_type": "markdown",
   "id": "12523fcd-f821-4083-9f86-e15fafc4735a",
   "metadata": {},
   "source": [
    "### Final Code Pipeline"
   ]
  },
  {
   "cell_type": "code",
   "execution_count": 2,
   "id": "0b671d6f-c066-4d52-9e2d-e47945acfb3d",
   "metadata": {},
   "outputs": [],
   "source": [
    "# define the symbols to the stocks we will predict\n",
    "Tech_Stocks = [\"AAPL\", \"NVDA\", \"AMD\", \"INTL\", \"GOOG\"]\n",
    "Industry_Stocks =  [\"GE\", \"RTX\", \"HON\", \"RYCEY\", \"NOV\"]\n",
    "Full_Stock_List = Tech_Stocks + Industry_Stocks\n",
    "\n",
    "def pull_data(ticker, interval, api = api_paper, num_of_days = 180, offset_days = 0):\n",
    "    \n",
    "    \"\"\"\n",
    "    This function witll return a data frame with data going back \"num_of_days\" and\n",
    "    a data frame with a number of \"offset_days\" to be used as a final test in backtesting.\n",
    "    \"\"\"\n",
    "\n",
    "    interval_loop_data = None\n",
    "    interval_loop_data = pd.DataFrame()\n",
    "    stock_data = None\n",
    "    \n",
    "    days_to_collect = num_of_days + offset_days\n",
    "\n",
    "    TZ = 'US/Eastern'\n",
    "\n",
    "    start = pd.to_datetime((datetime.now() - timedelta(days=days_to_collect)).strftime(\"%Y-%m-%d %H:%M\"), utc=True)\n",
    "    end = pd.to_datetime(datetime.now().strftime(\"%Y-%m-%d %H:%M\"), utc=True)\n",
    "\n",
    "    stock_data = api.get_bars(ticker, interval, start = start.isoformat(), end=end.isoformat(), adjustment=\"raw\").df\n",
    "    \n",
    "    interval_loop_data = pd.concat([interval_loop_data, stock_data])\n",
    "    df_start_ref = interval_loop_data.index[0]\n",
    "    start_str_ref = pd.to_datetime(start, utc=True)\n",
    "\n",
    "    while start_str_ref.value < ( pd.to_datetime(df_start_ref, utc=True) - pd.Timedelta(days=2.5)).value:\n",
    "        end_new = pd.to_datetime(interval_loop_data.index[0].strftime(\"%Y-%m-%d %H:%M\"), utc=True).isoformat()\n",
    "        stock_data_new = None\n",
    "        stock_data_new = api.get_bars(ticker, interval, start=start, end=end_new, adjustment=\"raw\").df\n",
    "        #stock_data_new = stock_data_new.reset_index()\n",
    "        interval_loop_data = interval_loop_data.append(stock_data_new).sort_values(by=['index'], ascending=True)\n",
    "        df_start_ref = interval_loop_data.index[0]\n",
    "        \n",
    "    stock_yr_min_df = interval_loop_data.copy()\n",
    "    stock_yr_min_df[\"Open\"] = stock_yr_min_df['open']\n",
    "    stock_yr_min_df[\"High\"]= stock_yr_min_df[\"high\"]\n",
    "    stock_yr_min_df[\"Low\"] = stock_yr_min_df[\"low\"]\n",
    "    stock_yr_min_df[\"Close\"] = stock_yr_min_df[\"close\"]\n",
    "    stock_yr_min_df[\"Volume\"] = stock_yr_min_df[\"volume\"]\n",
    "    stock_yr_min_df[\"VolumeWeightedAvgPrice\"] = stock_yr_min_df[\"vwap\"]\n",
    "    stock_yr_min_df[\"Time\"] = stock_yr_min_df.index.tz_convert(TZ)\n",
    "    stock_yr_min_df.index = stock_yr_min_df.index.tz_convert(TZ)\n",
    "    final_df = stock_yr_min_df.filter([\"Time\", \"Open\", \"High\", \"Low\", \"Close\", \"Volume\", \"VolumeWeightedAvgPrice\"], axis = 1)\n",
    "    \n",
    "    first_day = final_df.index[0]\n",
    "    last_day = final_df.index[-1] - pd.Timedelta(days= offset_days)\n",
    "    training_df =  final_df.loc[:last_day] \n",
    "    offset_df =  final_df.loc[last_day:]\n",
    "    \n",
    "    return training_df, offset_df\n",
    "\n",
    "def refurn_str_label(diff_percent, percent_diff):\n",
    "    if diff_percent > percent_diff:\n",
    "        return \"buy\"\n",
    "    elif diff_percent < (-(percent_diff)):\n",
    "        return \"sell\"\n",
    "    else: \n",
    "        return \"flat\"\n",
    "\n",
    "def plot_label(df, stock_name, window = 24, predict_offset = 2, interval = 12):\n",
    "    \n",
    "    value_lookup_int = window + predict_offset\n",
    "    counter = 0\n",
    "    \n",
    "    for i in range(len(df)):\n",
    "        \n",
    "        if counter == 0:\n",
    "        \n",
    "            # break loop before end of i\n",
    "            if i >= ((len(df) - (value_lookup_int))):\n",
    "                print(\"Breaking\")\n",
    "                break\n",
    "\n",
    "            diff_value   = (df.Close[i + value_lookup_int] - df.Close[i+window])\n",
    "            diff_percent = diff_value / df.Close[i+window]\n",
    "\n",
    "            time_value = df[\"Time\"][i].time()\n",
    "            date_str = df[\"Time\"][i].date().strftime(\"%Y-%m-%d\")\n",
    "            time_str = time_value.strftime(\"%H-%M\")\n",
    "\n",
    "            # create str label if price is +/- .15% of a percent\n",
    "            label_str = refurn_str_label(diff_percent, 0.0015)\n",
    "\n",
    "            percent_str = str(round(diff_percent, 4)).replace(\"-\", \"neg\").replace(\".\", \"_\")\n",
    "\n",
    "            save_str = f'{i}_{stock_name}_{label_str}_{percent_str}_{date_str}-{time_str}.png'\n",
    "\n",
    "            start_time = time(9,30)\n",
    "            end_time = time(13,50)\n",
    "\n",
    "            if start_time <= df[\"Time\"][i].time() <= end_time:\n",
    "\n",
    "                fplt.plot(\n",
    "                    df.iloc[i:i+window],\n",
    "                    type='candle',\n",
    "                    style='yahoo',\n",
    "                    volume=True,\n",
    "                    savefig=save_str,\n",
    "                    show_nontrading=False\n",
    "                )\n",
    "            \n",
    "            counter += 1\n",
    "            \n",
    "        elif counter == interval:\n",
    "            \n",
    "            counter = 0\n",
    "        \n",
    "        else:\n",
    "            \n",
    "            counter += 1\n",
    "            \n",
    "def make_dirs(list_of_stocks):\n",
    "    root_path = 'C:\\\\Users\\\\Chris\\\\Desktop\\\\MIDS\\\\Spring_2022\\\\STA 663\\\\Final\\\\PredictionsFromCandleSticks\\\\data\\\\labeled_plots'\n",
    "    \n",
    "    path = os.path.join(root_path, \"train\")\n",
    "    \n",
    "    if os.path.exists(path):\n",
    "        pass\n",
    "    else:\n",
    "        os.mkdir(path)\n",
    "        \n",
    "    path = os.path.join(root_path, \"offset\")\n",
    "    \n",
    "    if os.path.exists(path):\n",
    "        pass\n",
    "    else:\n",
    "        os.mkdir(path)\n",
    "    \n",
    "    for item in list_of_stocks:\n",
    "        \n",
    "        path = os.path.join(root_path, \"train\", str(item))\n",
    "        \n",
    "        if os.path.exists(path):\n",
    "            pass\n",
    "        else:\n",
    "            os.mkdir(path)\n",
    "            \n",
    "        path = os.path.join(root_path, \"offset\", str(item))\n",
    "        \n",
    "        if os.path.exists(path):\n",
    "            pass\n",
    "        else:\n",
    "            os.mkdir(path)"
   ]
  },
  {
   "cell_type": "code",
   "execution_count": 3,
   "id": "b46a340b-3be6-4e77-bbd8-164c70235ce2",
   "metadata": {},
   "outputs": [],
   "source": [
    "# make labled data directories\n",
    "make_dirs(Full_Stock_List)"
   ]
  },
  {
   "cell_type": "code",
   "execution_count": 4,
   "id": "988245d9-559f-4784-aa4f-458008eced7c",
   "metadata": {},
   "outputs": [
    {
     "ename": "KeyboardInterrupt",
     "evalue": "",
     "output_type": "error",
     "traceback": [
      "\u001b[1;31m---------------------------------------------------------------------------\u001b[0m",
      "\u001b[1;31mKeyboardInterrupt\u001b[0m                         Traceback (most recent call last)",
      "Input \u001b[1;32mIn [4]\u001b[0m, in \u001b[0;36m<cell line: 5>\u001b[1;34m()\u001b[0m\n\u001b[0;32m     18\u001b[0m offset_df \u001b[38;5;241m=\u001b[39m offset_df\u001b[38;5;241m.\u001b[39mbetween_time(\u001b[38;5;124m'\u001b[39m\u001b[38;5;124m9:29\u001b[39m\u001b[38;5;124m'\u001b[39m, \u001b[38;5;124m'\u001b[39m\u001b[38;5;124m15:59\u001b[39m\u001b[38;5;124m'\u001b[39m)\n\u001b[0;32m     20\u001b[0m \u001b[38;5;66;03m# TODO: Scale Data, Scale Plots\u001b[39;00m\n\u001b[0;32m     21\u001b[0m \n\u001b[0;32m     22\u001b[0m \u001b[38;5;66;03m# plot and labled training data\u001b[39;00m\n\u001b[1;32m---> 23\u001b[0m \u001b[43mplot_label\u001b[49m\u001b[43m(\u001b[49m\u001b[43mtrain_df\u001b[49m\u001b[43m,\u001b[49m\u001b[43m \u001b[49m\u001b[43ms\u001b[49m\u001b[43m,\u001b[49m\u001b[43m \u001b[49m\u001b[43mwindow\u001b[49m\u001b[43m \u001b[49m\u001b[38;5;241;43m=\u001b[39;49m\u001b[43m \u001b[49m\u001b[38;5;241;43m24\u001b[39;49m\u001b[43m,\u001b[49m\u001b[43m \u001b[49m\u001b[43mpredict_offset\u001b[49m\u001b[43m \u001b[49m\u001b[38;5;241;43m=\u001b[39;49m\u001b[43m \u001b[49m\u001b[38;5;241;43m2\u001b[39;49m\u001b[43m)\u001b[49m\n\u001b[0;32m     25\u001b[0m os\u001b[38;5;241m.\u001b[39mchdir(\u001b[38;5;124m\"\u001b[39m\u001b[38;5;124m../..\u001b[39m\u001b[38;5;124m\"\u001b[39m)\n\u001b[0;32m     26\u001b[0m os\u001b[38;5;241m.\u001b[39mchdir(\u001b[38;5;124mf\u001b[39m\u001b[38;5;124m'\u001b[39m\u001b[38;5;124mdata/labeled_plots/offset/\u001b[39m\u001b[38;5;132;01m{\u001b[39;00ms\u001b[38;5;132;01m}\u001b[39;00m\u001b[38;5;124m'\u001b[39m)\n",
      "Input \u001b[1;32mIn [2]\u001b[0m, in \u001b[0;36mplot_label\u001b[1;34m(df, stock_name, window, predict_offset, interval)\u001b[0m\n\u001b[0;32m     93\u001b[0m     end_time \u001b[38;5;241m=\u001b[39m time(\u001b[38;5;241m13\u001b[39m,\u001b[38;5;241m50\u001b[39m)\n\u001b[0;32m     95\u001b[0m     \u001b[38;5;28;01mif\u001b[39;00m start_time \u001b[38;5;241m<\u001b[39m\u001b[38;5;241m=\u001b[39m df[\u001b[38;5;124m\"\u001b[39m\u001b[38;5;124mTime\u001b[39m\u001b[38;5;124m\"\u001b[39m][i]\u001b[38;5;241m.\u001b[39mtime() \u001b[38;5;241m<\u001b[39m\u001b[38;5;241m=\u001b[39m end_time:\n\u001b[1;32m---> 97\u001b[0m         \u001b[43mfplt\u001b[49m\u001b[38;5;241;43m.\u001b[39;49m\u001b[43mplot\u001b[49m\u001b[43m(\u001b[49m\n\u001b[0;32m     98\u001b[0m \u001b[43m            \u001b[49m\u001b[43mdf\u001b[49m\u001b[38;5;241;43m.\u001b[39;49m\u001b[43miloc\u001b[49m\u001b[43m[\u001b[49m\u001b[43mi\u001b[49m\u001b[43m:\u001b[49m\u001b[43mi\u001b[49m\u001b[38;5;241;43m+\u001b[39;49m\u001b[43mwindow\u001b[49m\u001b[43m]\u001b[49m\u001b[43m,\u001b[49m\n\u001b[0;32m     99\u001b[0m \u001b[43m            \u001b[49m\u001b[38;5;28;43mtype\u001b[39;49m\u001b[38;5;241;43m=\u001b[39;49m\u001b[38;5;124;43m'\u001b[39;49m\u001b[38;5;124;43mcandle\u001b[39;49m\u001b[38;5;124;43m'\u001b[39;49m\u001b[43m,\u001b[49m\n\u001b[0;32m    100\u001b[0m \u001b[43m            \u001b[49m\u001b[43mstyle\u001b[49m\u001b[38;5;241;43m=\u001b[39;49m\u001b[38;5;124;43m'\u001b[39;49m\u001b[38;5;124;43myahoo\u001b[39;49m\u001b[38;5;124;43m'\u001b[39;49m\u001b[43m,\u001b[49m\n\u001b[0;32m    101\u001b[0m \u001b[43m            \u001b[49m\u001b[43mvolume\u001b[49m\u001b[38;5;241;43m=\u001b[39;49m\u001b[38;5;28;43;01mTrue\u001b[39;49;00m\u001b[43m,\u001b[49m\n\u001b[0;32m    102\u001b[0m \u001b[43m            \u001b[49m\u001b[43msavefig\u001b[49m\u001b[38;5;241;43m=\u001b[39;49m\u001b[43msave_str\u001b[49m\u001b[43m,\u001b[49m\n\u001b[0;32m    103\u001b[0m \u001b[43m            \u001b[49m\u001b[43mshow_nontrading\u001b[49m\u001b[38;5;241;43m=\u001b[39;49m\u001b[38;5;28;43;01mFalse\u001b[39;49;00m\n\u001b[0;32m    104\u001b[0m \u001b[43m        \u001b[49m\u001b[43m)\u001b[49m\n\u001b[0;32m    106\u001b[0m     counter \u001b[38;5;241m+\u001b[39m\u001b[38;5;241m=\u001b[39m \u001b[38;5;241m1\u001b[39m\n\u001b[0;32m    108\u001b[0m \u001b[38;5;28;01melif\u001b[39;00m counter \u001b[38;5;241m==\u001b[39m interval:\n",
      "File \u001b[1;32m~\\miniconda3\\lib\\site-packages\\mplfinance\\plotting.py:756\u001b[0m, in \u001b[0;36mplot\u001b[1;34m(data, **kwargs)\u001b[0m\n\u001b[0;32m    736\u001b[0m     _set_ylabels_side(axA1,\u001b[38;5;28;01mNone\u001b[39;00m,y_on_right)\n\u001b[0;32m    738\u001b[0m \u001b[38;5;66;03m# TODO: ================================================================\u001b[39;00m\n\u001b[0;32m    739\u001b[0m \u001b[38;5;66;03m# TODO:  Investigate:\u001b[39;00m\n\u001b[0;32m    740\u001b[0m \u001b[38;5;66;03m# TODO:  ===========\u001b[39;00m\n\u001b[1;32m   (...)\u001b[0m\n\u001b[0;32m    753\u001b[0m     \u001b[38;5;66;03m#print('CALLING fig.autofmt_xdate()')\u001b[39;00m\n\u001b[0;32m    754\u001b[0m     \u001b[38;5;66;03m#fig.autofmt_xdate()\u001b[39;00m\n\u001b[1;32m--> 756\u001b[0m \u001b[43maxA1\u001b[49m\u001b[38;5;241;43m.\u001b[39;49m\u001b[43mautoscale_view\u001b[49m\u001b[43m(\u001b[49m\u001b[43m)\u001b[49m  \u001b[38;5;66;03m# Is this really necessary??\u001b[39;00m\n\u001b[0;32m    757\u001b[0m                        \u001b[38;5;66;03m# It appears to me, based on experience coding types 'ohlc' and 'candle'\u001b[39;00m\n\u001b[0;32m    758\u001b[0m                        \u001b[38;5;66;03m# for `addplot`, that this IS necessary when the only thing done to the\u001b[39;00m\n\u001b[0;32m    759\u001b[0m                        \u001b[38;5;66;03m# the axes is .add_collection().  (However, if ax.plot() .scatter() or\u001b[39;00m\n\u001b[0;32m    760\u001b[0m                        \u001b[38;5;66;03m# .bar() was called, then possibly this is not necessary; not entirely\u001b[39;00m\n\u001b[0;32m    761\u001b[0m                        \u001b[38;5;66;03m# sure, but it definitely was necessary to get 'ohlc' and 'candle' \u001b[39;00m\n\u001b[0;32m    762\u001b[0m                        \u001b[38;5;66;03m# working in `addplot`).\u001b[39;00m\n\u001b[0;32m    764\u001b[0m axA1\u001b[38;5;241m.\u001b[39mset_ylabel(config[\u001b[38;5;124m'\u001b[39m\u001b[38;5;124mylabel\u001b[39m\u001b[38;5;124m'\u001b[39m])\n",
      "File \u001b[1;32m~\\miniconda3\\lib\\site-packages\\matplotlib\\axes\\_base.py:2932\u001b[0m, in \u001b[0;36m_AxesBase.autoscale_view\u001b[1;34m(self, tight, scalex, scaley)\u001b[0m\n\u001b[0;32m   2929\u001b[0m     set_bound(x0, x1)\n\u001b[0;32m   2930\u001b[0m     \u001b[38;5;66;03m# End of definition of internal function 'handle_single_axis'.\u001b[39;00m\n\u001b[1;32m-> 2932\u001b[0m \u001b[43mhandle_single_axis\u001b[49m\u001b[43m(\u001b[49m\n\u001b[0;32m   2933\u001b[0m \u001b[43m    \u001b[49m\u001b[43mscalex\u001b[49m\u001b[43m,\u001b[49m\u001b[43m \u001b[49m\u001b[38;5;28;43mself\u001b[39;49m\u001b[38;5;241;43m.\u001b[39;49m\u001b[43m_autoscaleXon\u001b[49m\u001b[43m,\u001b[49m\u001b[43m \u001b[49m\u001b[38;5;28;43mself\u001b[39;49m\u001b[38;5;241;43m.\u001b[39;49m\u001b[43m_shared_axes\u001b[49m\u001b[43m[\u001b[49m\u001b[38;5;124;43m\"\u001b[39;49m\u001b[38;5;124;43mx\u001b[39;49m\u001b[38;5;124;43m\"\u001b[39;49m\u001b[43m]\u001b[49m\u001b[43m,\u001b[49m\u001b[43m \u001b[49m\u001b[38;5;124;43m'\u001b[39;49m\u001b[38;5;124;43mx\u001b[39;49m\u001b[38;5;124;43m'\u001b[39;49m\u001b[43m,\u001b[49m\n\u001b[0;32m   2934\u001b[0m \u001b[43m    \u001b[49m\u001b[38;5;28;43mself\u001b[39;49m\u001b[38;5;241;43m.\u001b[39;49m\u001b[43mxaxis\u001b[49m\u001b[43m,\u001b[49m\u001b[43m \u001b[49m\u001b[38;5;28;43mself\u001b[39;49m\u001b[38;5;241;43m.\u001b[39;49m\u001b[43m_xmargin\u001b[49m\u001b[43m,\u001b[49m\u001b[43m \u001b[49m\u001b[43mx_stickies\u001b[49m\u001b[43m,\u001b[49m\u001b[43m \u001b[49m\u001b[38;5;28;43mself\u001b[39;49m\u001b[38;5;241;43m.\u001b[39;49m\u001b[43mset_xbound\u001b[49m\u001b[43m)\u001b[49m\n\u001b[0;32m   2935\u001b[0m handle_single_axis(\n\u001b[0;32m   2936\u001b[0m     scaley, \u001b[38;5;28mself\u001b[39m\u001b[38;5;241m.\u001b[39m_autoscaleYon, \u001b[38;5;28mself\u001b[39m\u001b[38;5;241m.\u001b[39m_shared_axes[\u001b[38;5;124m\"\u001b[39m\u001b[38;5;124my\u001b[39m\u001b[38;5;124m\"\u001b[39m], \u001b[38;5;124m'\u001b[39m\u001b[38;5;124my\u001b[39m\u001b[38;5;124m'\u001b[39m,\n\u001b[0;32m   2937\u001b[0m     \u001b[38;5;28mself\u001b[39m\u001b[38;5;241m.\u001b[39myaxis, \u001b[38;5;28mself\u001b[39m\u001b[38;5;241m.\u001b[39m_ymargin, y_stickies, \u001b[38;5;28mself\u001b[39m\u001b[38;5;241m.\u001b[39mset_ybound)\n",
      "File \u001b[1;32m~\\miniconda3\\lib\\site-packages\\matplotlib\\axes\\_base.py:2929\u001b[0m, in \u001b[0;36m_AxesBase.autoscale_view.<locals>.handle_single_axis\u001b[1;34m(scale, autoscaleon, shared_axes, name, axis, margin, stickies, set_bound)\u001b[0m\n\u001b[0;32m   2927\u001b[0m \u001b[38;5;28;01mif\u001b[39;00m \u001b[38;5;129;01mnot\u001b[39;00m \u001b[38;5;28mself\u001b[39m\u001b[38;5;241m.\u001b[39m_tight:\n\u001b[0;32m   2928\u001b[0m     x0, x1 \u001b[38;5;241m=\u001b[39m locator\u001b[38;5;241m.\u001b[39mview_limits(x0, x1)\n\u001b[1;32m-> 2929\u001b[0m \u001b[43mset_bound\u001b[49m\u001b[43m(\u001b[49m\u001b[43mx0\u001b[49m\u001b[43m,\u001b[49m\u001b[43m \u001b[49m\u001b[43mx1\u001b[49m\u001b[43m)\u001b[49m\n",
      "File \u001b[1;32m~\\miniconda3\\lib\\site-packages\\matplotlib\\axes\\_base.py:3558\u001b[0m, in \u001b[0;36m_AxesBase.set_xbound\u001b[1;34m(self, lower, upper)\u001b[0m\n\u001b[0;32m   3555\u001b[0m \u001b[38;5;28;01mif\u001b[39;00m upper \u001b[38;5;129;01mis\u001b[39;00m \u001b[38;5;28;01mNone\u001b[39;00m \u001b[38;5;129;01mand\u001b[39;00m np\u001b[38;5;241m.\u001b[39miterable(lower):\n\u001b[0;32m   3556\u001b[0m     lower, upper \u001b[38;5;241m=\u001b[39m lower\n\u001b[1;32m-> 3558\u001b[0m old_lower, old_upper \u001b[38;5;241m=\u001b[39m \u001b[38;5;28;43mself\u001b[39;49m\u001b[38;5;241;43m.\u001b[39;49m\u001b[43mget_xbound\u001b[49m\u001b[43m(\u001b[49m\u001b[43m)\u001b[49m\n\u001b[0;32m   3559\u001b[0m \u001b[38;5;28;01mif\u001b[39;00m lower \u001b[38;5;129;01mis\u001b[39;00m \u001b[38;5;28;01mNone\u001b[39;00m:\n\u001b[0;32m   3560\u001b[0m     lower \u001b[38;5;241m=\u001b[39m old_lower\n",
      "File \u001b[1;32m~\\miniconda3\\lib\\site-packages\\matplotlib\\axes\\_base.py:3530\u001b[0m, in \u001b[0;36m_AxesBase.get_xbound\u001b[1;34m(self)\u001b[0m\n\u001b[0;32m   3520\u001b[0m \u001b[38;5;28;01mdef\u001b[39;00m \u001b[38;5;21mget_xbound\u001b[39m(\u001b[38;5;28mself\u001b[39m):\n\u001b[0;32m   3521\u001b[0m     \u001b[38;5;124;03m\"\"\"\u001b[39;00m\n\u001b[0;32m   3522\u001b[0m \u001b[38;5;124;03m    Return the lower and upper x-axis bounds, in increasing order.\u001b[39;00m\n\u001b[0;32m   3523\u001b[0m \n\u001b[1;32m   (...)\u001b[0m\n\u001b[0;32m   3528\u001b[0m \u001b[38;5;124;03m    invert_xaxis, xaxis_inverted\u001b[39;00m\n\u001b[0;32m   3529\u001b[0m \u001b[38;5;124;03m    \"\"\"\u001b[39;00m\n\u001b[1;32m-> 3530\u001b[0m     left, right \u001b[38;5;241m=\u001b[39m \u001b[38;5;28;43mself\u001b[39;49m\u001b[38;5;241;43m.\u001b[39;49m\u001b[43mget_xlim\u001b[49m\u001b[43m(\u001b[49m\u001b[43m)\u001b[49m\n\u001b[0;32m   3531\u001b[0m     \u001b[38;5;28;01mif\u001b[39;00m left \u001b[38;5;241m<\u001b[39m right:\n\u001b[0;32m   3532\u001b[0m         \u001b[38;5;28;01mreturn\u001b[39;00m left, right\n",
      "File \u001b[1;32m~\\miniconda3\\lib\\site-packages\\matplotlib\\axes\\_base.py:3589\u001b[0m, in \u001b[0;36m_AxesBase.get_xlim\u001b[1;34m(self)\u001b[0m\n\u001b[0;32m   3568\u001b[0m \u001b[38;5;28;01mdef\u001b[39;00m \u001b[38;5;21mget_xlim\u001b[39m(\u001b[38;5;28mself\u001b[39m):\n\u001b[0;32m   3569\u001b[0m     \u001b[38;5;124;03m\"\"\"\u001b[39;00m\n\u001b[0;32m   3570\u001b[0m \u001b[38;5;124;03m    Return the x-axis view limits.\u001b[39;00m\n\u001b[0;32m   3571\u001b[0m \n\u001b[1;32m   (...)\u001b[0m\n\u001b[0;32m   3587\u001b[0m \n\u001b[0;32m   3588\u001b[0m \u001b[38;5;124;03m    \"\"\"\u001b[39;00m\n\u001b[1;32m-> 3589\u001b[0m     \u001b[38;5;28;01mreturn\u001b[39;00m \u001b[38;5;28mtuple\u001b[39m(\u001b[38;5;28;43mself\u001b[39;49m\u001b[38;5;241;43m.\u001b[39;49m\u001b[43mviewLim\u001b[49m\u001b[38;5;241m.\u001b[39mintervalx)\n",
      "File \u001b[1;32m~\\miniconda3\\lib\\site-packages\\matplotlib\\axes\\_base.py:781\u001b[0m, in \u001b[0;36m_AxesBase.viewLim\u001b[1;34m(self)\u001b[0m\n\u001b[0;32m    779\u001b[0m \u001b[38;5;129m@property\u001b[39m\n\u001b[0;32m    780\u001b[0m \u001b[38;5;28;01mdef\u001b[39;00m \u001b[38;5;21mviewLim\u001b[39m(\u001b[38;5;28mself\u001b[39m):\n\u001b[1;32m--> 781\u001b[0m     \u001b[38;5;28;43mself\u001b[39;49m\u001b[38;5;241;43m.\u001b[39;49m\u001b[43m_unstale_viewLim\u001b[49m\u001b[43m(\u001b[49m\u001b[43m)\u001b[49m\n\u001b[0;32m    782\u001b[0m     \u001b[38;5;28;01mreturn\u001b[39;00m \u001b[38;5;28mself\u001b[39m\u001b[38;5;241m.\u001b[39m_viewLim\n",
      "File \u001b[1;32m~\\miniconda3\\lib\\site-packages\\matplotlib\\axes\\_base.py:776\u001b[0m, in \u001b[0;36m_AxesBase._unstale_viewLim\u001b[1;34m(self)\u001b[0m\n\u001b[0;32m    774\u001b[0m     \u001b[38;5;28;01mfor\u001b[39;00m ax \u001b[38;5;129;01min\u001b[39;00m \u001b[38;5;28mself\u001b[39m\u001b[38;5;241m.\u001b[39m_shared_axes[name]\u001b[38;5;241m.\u001b[39mget_siblings(\u001b[38;5;28mself\u001b[39m):\n\u001b[0;32m    775\u001b[0m         ax\u001b[38;5;241m.\u001b[39m_stale_viewlims[name] \u001b[38;5;241m=\u001b[39m \u001b[38;5;28;01mFalse\u001b[39;00m\n\u001b[1;32m--> 776\u001b[0m \u001b[38;5;28mself\u001b[39m\u001b[38;5;241m.\u001b[39mautoscale_view(\u001b[38;5;241m*\u001b[39m\u001b[38;5;241m*\u001b[39m{\u001b[38;5;124mf\u001b[39m\u001b[38;5;124m\"\u001b[39m\u001b[38;5;124mscale\u001b[39m\u001b[38;5;132;01m{\u001b[39;00mname\u001b[38;5;132;01m}\u001b[39;00m\u001b[38;5;124m\"\u001b[39m: scale\n\u001b[0;32m    777\u001b[0m                        \u001b[38;5;28;01mfor\u001b[39;00m name, scale \u001b[38;5;129;01min\u001b[39;00m need_scale\u001b[38;5;241m.\u001b[39mitems()})\n",
      "File \u001b[1;32m~\\miniconda3\\lib\\site-packages\\matplotlib\\axes\\_base.py:2851\u001b[0m, in \u001b[0;36m_AxesBase.autoscale_view\u001b[1;34m(self, tight, scalex, scaley)\u001b[0m\n\u001b[0;32m   2844\u001b[0m \u001b[38;5;28;01mif\u001b[39;00m \u001b[38;5;28mself\u001b[39m\u001b[38;5;241m.\u001b[39muse_sticky_edges:\n\u001b[0;32m   2845\u001b[0m     \u001b[38;5;66;03m# Only iterate over Axes and artists if needed.  The check for\u001b[39;00m\n\u001b[0;32m   2846\u001b[0m     \u001b[38;5;66;03m# ``hasattr(ax, \"_children\")`` is necessary because this can be\u001b[39;00m\n\u001b[0;32m   2847\u001b[0m     \u001b[38;5;66;03m# called very early in the Axes init process (e.g., for twin axes)\u001b[39;00m\n\u001b[0;32m   2848\u001b[0m     \u001b[38;5;66;03m# when these attributes don't even exist yet, in which case\u001b[39;00m\n\u001b[0;32m   2849\u001b[0m     \u001b[38;5;66;03m# `get_children` would raise an AttributeError.\u001b[39;00m\n\u001b[0;32m   2850\u001b[0m     \u001b[38;5;28;01mif\u001b[39;00m \u001b[38;5;28mself\u001b[39m\u001b[38;5;241m.\u001b[39m_xmargin \u001b[38;5;129;01mand\u001b[39;00m scalex \u001b[38;5;129;01mand\u001b[39;00m \u001b[38;5;28mself\u001b[39m\u001b[38;5;241m.\u001b[39m_autoscaleXon:\n\u001b[1;32m-> 2851\u001b[0m         x_stickies \u001b[38;5;241m=\u001b[39m np\u001b[38;5;241m.\u001b[39msort(\u001b[43mnp\u001b[49m\u001b[38;5;241;43m.\u001b[39;49m\u001b[43mconcatenate\u001b[49m\u001b[43m(\u001b[49m\u001b[43m[\u001b[49m\n\u001b[0;32m   2852\u001b[0m \u001b[43m            \u001b[49m\u001b[43martist\u001b[49m\u001b[38;5;241;43m.\u001b[39;49m\u001b[43msticky_edges\u001b[49m\u001b[38;5;241;43m.\u001b[39;49m\u001b[43mx\u001b[49m\n\u001b[0;32m   2853\u001b[0m \u001b[43m            \u001b[49m\u001b[38;5;28;43;01mfor\u001b[39;49;00m\u001b[43m \u001b[49m\u001b[43max\u001b[49m\u001b[43m \u001b[49m\u001b[38;5;129;43;01min\u001b[39;49;00m\u001b[43m \u001b[49m\u001b[38;5;28;43mself\u001b[39;49m\u001b[38;5;241;43m.\u001b[39;49m\u001b[43m_shared_axes\u001b[49m\u001b[43m[\u001b[49m\u001b[38;5;124;43m\"\u001b[39;49m\u001b[38;5;124;43mx\u001b[39;49m\u001b[38;5;124;43m\"\u001b[39;49m\u001b[43m]\u001b[49m\u001b[38;5;241;43m.\u001b[39;49m\u001b[43mget_siblings\u001b[49m\u001b[43m(\u001b[49m\u001b[38;5;28;43mself\u001b[39;49m\u001b[43m)\u001b[49m\n\u001b[0;32m   2854\u001b[0m \u001b[43m            \u001b[49m\u001b[38;5;28;43;01mif\u001b[39;49;00m\u001b[43m \u001b[49m\u001b[38;5;28;43mhasattr\u001b[39;49m\u001b[43m(\u001b[49m\u001b[43max\u001b[49m\u001b[43m,\u001b[49m\u001b[43m \u001b[49m\u001b[38;5;124;43m\"\u001b[39;49m\u001b[38;5;124;43m_children\u001b[39;49m\u001b[38;5;124;43m\"\u001b[39;49m\u001b[43m)\u001b[49m\n\u001b[0;32m   2855\u001b[0m \u001b[43m            \u001b[49m\u001b[38;5;28;43;01mfor\u001b[39;49;00m\u001b[43m \u001b[49m\u001b[43martist\u001b[49m\u001b[43m \u001b[49m\u001b[38;5;129;43;01min\u001b[39;49;00m\u001b[43m \u001b[49m\u001b[43max\u001b[49m\u001b[38;5;241;43m.\u001b[39;49m\u001b[43mget_children\u001b[49m\u001b[43m(\u001b[49m\u001b[43m)\u001b[49m\u001b[43m]\u001b[49m\u001b[43m)\u001b[49m)\n\u001b[0;32m   2856\u001b[0m     \u001b[38;5;28;01mif\u001b[39;00m \u001b[38;5;28mself\u001b[39m\u001b[38;5;241m.\u001b[39m_ymargin \u001b[38;5;129;01mand\u001b[39;00m scaley \u001b[38;5;129;01mand\u001b[39;00m \u001b[38;5;28mself\u001b[39m\u001b[38;5;241m.\u001b[39m_autoscaleYon:\n\u001b[0;32m   2857\u001b[0m         y_stickies \u001b[38;5;241m=\u001b[39m np\u001b[38;5;241m.\u001b[39msort(np\u001b[38;5;241m.\u001b[39mconcatenate([\n\u001b[0;32m   2858\u001b[0m             artist\u001b[38;5;241m.\u001b[39msticky_edges\u001b[38;5;241m.\u001b[39my\n\u001b[0;32m   2859\u001b[0m             \u001b[38;5;28;01mfor\u001b[39;00m ax \u001b[38;5;129;01min\u001b[39;00m \u001b[38;5;28mself\u001b[39m\u001b[38;5;241m.\u001b[39m_shared_axes[\u001b[38;5;124m\"\u001b[39m\u001b[38;5;124my\u001b[39m\u001b[38;5;124m\"\u001b[39m]\u001b[38;5;241m.\u001b[39mget_siblings(\u001b[38;5;28mself\u001b[39m)\n\u001b[0;32m   2860\u001b[0m             \u001b[38;5;28;01mif\u001b[39;00m \u001b[38;5;28mhasattr\u001b[39m(ax, \u001b[38;5;124m\"\u001b[39m\u001b[38;5;124m_children\u001b[39m\u001b[38;5;124m\"\u001b[39m)\n\u001b[0;32m   2861\u001b[0m             \u001b[38;5;28;01mfor\u001b[39;00m artist \u001b[38;5;129;01min\u001b[39;00m ax\u001b[38;5;241m.\u001b[39mget_children()]))\n",
      "File \u001b[1;32m<__array_function__ internals>:180\u001b[0m, in \u001b[0;36mconcatenate\u001b[1;34m(*args, **kwargs)\u001b[0m\n",
      "\u001b[1;31mKeyboardInterrupt\u001b[0m: "
     ]
    },
    {
     "data": {
      "image/png": "[encoded data removed]",
      "text/plain": [
       "<Figure size 800x575 with 4 Axes>"
      ]
     },
     "metadata": {},
     "output_type": "display_data"
    }
   ],
   "source": [
    "# pull in and store raw dataframe for each stock and offset\n",
    "\n",
    "os.chdir('C:\\\\Users\\\\Chris\\\\Desktop\\\\MIDS\\\\Spring_2022\\\\STA 663\\\\Final\\\\PredictionsFromCandleSticks')\n",
    "\n",
    "for s in Full_Stock_List:\n",
    "    \n",
    "    os.chdir(f'data/labeled_plots/train/{s}')\n",
    "    # pull data\n",
    "    ticker = s\n",
    "    interval = \"5Min\"\n",
    "    offset_days = 90 # day to backtest at the end of training model\n",
    "    num_of_days = (364 * 5) - offset_days # 5 years of data minus backtesting days\n",
    "    \n",
    "    train_df, offset_df = pull_data(ticker, interval, api = api_paper, num_of_days = num_of_days, offset_days = offset_days)\n",
    "    \n",
    "    # subset data for only during trading hours\n",
    "    train_df = train_df.between_time('9:29', '15:59')\n",
    "    offset_df = offset_df.between_time('9:29', '15:59')\n",
    "    \n",
    "    # TODO: Scale Data, Scale Plots\n",
    "    \n",
    "    # plot and labled training data\n",
    "    plot_label(train_df, s, window = 24, predict_offset = 2)\n",
    "    \n",
    "    os.chdir(\"../..\")\n",
    "    os.chdir(f'data/labeled_plots/offset/{s}')\n",
    "    \n",
    "    # plot and label offset data\n",
    "    plot_label(offset_df, stock_name, window = 24, predict_offset = 2)\n",
    "    \n",
    "    os.chdir('C:\\\\Users\\\\Chris\\\\Desktop\\\\MIDS\\\\Spring_2022\\\\STA 663\\\\Final\\\\PredictionsFromCandleSticks')"
   ]
  },
  {
   "cell_type": "markdown",
   "id": "aba6363f-72e4-42dc-b72b-b55801741688",
   "metadata": {},
   "source": [
    "# APPENDIX"
   ]
  },
  {
   "cell_type": "code",
   "execution_count": 2,
   "id": "cdd9a451-a160-42d2-ae41-780a009120dd",
   "metadata": {},
   "outputs": [],
   "source": [
    "def pull_data(ticker, interval, api = api_paper, num_of_days = 180, offset_days = 0):\n",
    "    ticker_data_dict = None\n",
    "    ticker_data_dict = {}\n",
    "    monthly_data_dict = None\n",
    "    monthly_data_dict = {}\n",
    "    interval_loop_data = None\n",
    "    interval_loop_data = pd.DataFrame()\n",
    "    stock_data = None\n",
    "    \n",
    "    days_to_collect = num_of_days + offset_days\n",
    "\n",
    "    TZ = 'US/Eastern'\n",
    "\n",
    "    start = pd.to_datetime((datetime.now() - timedelta(days=days_to_collect)).strftime(\"%Y-%m-%d %H:%M\"), utc=True)\n",
    "    end = pd.to_datetime(datetime.now().strftime(\"%Y-%m-%d %H:%M\"), utc=True)\n",
    "\n",
    "    stock_data = api.get_bars(ticker, interval, start = start.isoformat(), end=end.isoformat(), adjustment=\"raw\").df\n",
    "    \n",
    "    interval_loop_data = pd.concat([interval_loop_data, stock_data])\n",
    "    df_start_ref = interval_loop_data.index[0]\n",
    "    start_str_ref = pd.to_datetime(start, utc=True)\n",
    "\n",
    "    while start_str_ref.value < ( pd.to_datetime(df_start_ref, utc=True) - pd.Timedelta(days=2.5)).value:\n",
    "        end_new = pd.to_datetime(interval_loop_data.index[0].strftime(\"%Y-%m-%d %H:%M\"), utc=True).isoformat()\n",
    "        stock_data_new = None\n",
    "        stock_data_new = api.get_bars(ticker, interval, start=start, end=end_new, adjustment=\"raw\").df\n",
    "        #stock_data_new = stock_data_new.reset_index()\n",
    "        interval_loop_data = interval_loop_data.append(stock_data_new).sort_values(by=['index'], ascending=True)\n",
    "        df_start_ref = interval_loop_data.index[0]\n",
    "        \n",
    "    stock_yr_min_df = interval_loop_data.copy()\n",
    "    stock_yr_min_df[\"Open\"] = stock_yr_min_df['open']\n",
    "    stock_yr_min_df[\"High\"]= stock_yr_min_df[\"high\"]\n",
    "    stock_yr_min_df[\"Low\"] = stock_yr_min_df[\"low\"]\n",
    "    stock_yr_min_df[\"Close\"] = stock_yr_min_df[\"close\"]\n",
    "    stock_yr_min_df[\"Volume\"] = stock_yr_min_df[\"volume\"]\n",
    "    stock_yr_min_df[\"VolumeWeightedAvgPrice\"] = stock_yr_min_df[\"vwap\"]\n",
    "    stock_yr_min_df[\"Time\"] = stock_yr_min_df.index.tz_convert(TZ)\n",
    "    stock_yr_min_df.index = stock_yr_min_df.index.tz_convert(TZ)\n",
    "    final_df = stock_yr_min_df.filter([\"Time\", \"Open\", \"High\", \"Low\", \"Close\", \"Volume\", \"VolumeWeightedAvgPrice\"], axis = 1)\n",
    "    \n",
    "    first_day = final_df.index[0]\n",
    "    last_day = final_df.index[-1] - pd.Timedelta(days= offset_days)\n",
    "    training_df =  final_df.loc[:last_day] \n",
    "    offset_df =  final_df.loc[last_day:]\n",
    "    \n",
    "    return training_df, offset_df"
   ]
  },
  {
   "cell_type": "markdown",
   "id": "f5326a54-7f7f-422a-87d0-9f7038dcb5ec",
   "metadata": {},
   "source": [
    "### Importing raw data"
   ]
  },
  {
   "cell_type": "code",
   "execution_count": 5,
   "id": "1d3a70a4-8824-45ec-a7f0-650a2b0e8d6f",
   "metadata": {},
   "outputs": [],
   "source": [
    "train_df, offset_df = pull_data(\"AMD\", \"5Min\", api_paper, num_of_days = 180, offset_days = 0)"
   ]
  },
  {
   "cell_type": "markdown",
   "id": "dc77312a-c903-4524-b032-67436c6eb325",
   "metadata": {},
   "source": [
    "### Building Data Plots"
   ]
  },
  {
   "cell_type": "code",
   "execution_count": 4,
   "id": "b6203017-199f-403c-bcb0-5d2dce12fb2a",
   "metadata": {},
   "outputs": [
    {
     "data": {
      "text/html": [
       "<div>\n",
       "<style scoped>\n",
       "    .dataframe tbody tr th:only-of-type {\n",
       "        vertical-align: middle;\n",
       "    }\n",
       "\n",
       "    .dataframe tbody tr th {\n",
       "        vertical-align: top;\n",
       "    }\n",
       "\n",
       "    .dataframe thead th {\n",
       "        text-align: right;\n",
       "    }\n",
       "</style>\n",
       "<table border=\"1\" class=\"dataframe\">\n",
       "  <thead>\n",
       "    <tr style=\"text-align: right;\">\n",
       "      <th></th>\n",
       "      <th>Time</th>\n",
       "      <th>Open</th>\n",
       "      <th>High</th>\n",
       "      <th>Low</th>\n",
       "      <th>Close</th>\n",
       "      <th>Volume</th>\n",
       "      <th>VolumeWeightedAvgPrice</th>\n",
       "    </tr>\n",
       "    <tr>\n",
       "      <th>timestamp</th>\n",
       "      <th></th>\n",
       "      <th></th>\n",
       "      <th></th>\n",
       "      <th></th>\n",
       "      <th></th>\n",
       "      <th></th>\n",
       "      <th></th>\n",
       "    </tr>\n",
       "  </thead>\n",
       "  <tbody>\n",
       "    <tr>\n",
       "      <th>2021-10-14 10:20:00-04:00</th>\n",
       "      <td>2021-10-14 10:20:00-04:00</td>\n",
       "      <td>111.0000</td>\n",
       "      <td>111.2400</td>\n",
       "      <td>110.8501</td>\n",
       "      <td>111.1700</td>\n",
       "      <td>712106</td>\n",
       "      <td>111.051553</td>\n",
       "    </tr>\n",
       "    <tr>\n",
       "      <th>2021-10-14 10:25:00-04:00</th>\n",
       "      <td>2021-10-14 10:25:00-04:00</td>\n",
       "      <td>111.1650</td>\n",
       "      <td>111.2300</td>\n",
       "      <td>110.9110</td>\n",
       "      <td>110.9300</td>\n",
       "      <td>520095</td>\n",
       "      <td>111.088551</td>\n",
       "    </tr>\n",
       "    <tr>\n",
       "      <th>2021-10-14 10:30:00-04:00</th>\n",
       "      <td>2021-10-14 10:30:00-04:00</td>\n",
       "      <td>110.9287</td>\n",
       "      <td>111.1550</td>\n",
       "      <td>110.7200</td>\n",
       "      <td>111.1400</td>\n",
       "      <td>803101</td>\n",
       "      <td>110.944363</td>\n",
       "    </tr>\n",
       "    <tr>\n",
       "      <th>2021-10-14 10:35:00-04:00</th>\n",
       "      <td>2021-10-14 10:35:00-04:00</td>\n",
       "      <td>111.1500</td>\n",
       "      <td>111.3300</td>\n",
       "      <td>111.1000</td>\n",
       "      <td>111.2900</td>\n",
       "      <td>688936</td>\n",
       "      <td>111.234813</td>\n",
       "    </tr>\n",
       "    <tr>\n",
       "      <th>2021-10-14 10:40:00-04:00</th>\n",
       "      <td>2021-10-14 10:40:00-04:00</td>\n",
       "      <td>111.2911</td>\n",
       "      <td>111.4900</td>\n",
       "      <td>111.1500</td>\n",
       "      <td>111.4800</td>\n",
       "      <td>1332120</td>\n",
       "      <td>111.269463</td>\n",
       "    </tr>\n",
       "    <tr>\n",
       "      <th>...</th>\n",
       "      <td>...</td>\n",
       "      <td>...</td>\n",
       "      <td>...</td>\n",
       "      <td>...</td>\n",
       "      <td>...</td>\n",
       "      <td>...</td>\n",
       "      <td>...</td>\n",
       "    </tr>\n",
       "    <tr>\n",
       "      <th>2022-04-12 09:55:00-04:00</th>\n",
       "      <td>2022-04-12 09:55:00-04:00</td>\n",
       "      <td>98.9700</td>\n",
       "      <td>99.1200</td>\n",
       "      <td>98.6200</td>\n",
       "      <td>98.8000</td>\n",
       "      <td>1602929</td>\n",
       "      <td>98.901517</td>\n",
       "    </tr>\n",
       "    <tr>\n",
       "      <th>2022-04-12 10:00:00-04:00</th>\n",
       "      <td>2022-04-12 10:00:00-04:00</td>\n",
       "      <td>98.8400</td>\n",
       "      <td>99.5900</td>\n",
       "      <td>98.4500</td>\n",
       "      <td>99.4800</td>\n",
       "      <td>2022568</td>\n",
       "      <td>99.127614</td>\n",
       "    </tr>\n",
       "    <tr>\n",
       "      <th>2022-04-12 10:05:00-04:00</th>\n",
       "      <td>2022-04-12 10:05:00-04:00</td>\n",
       "      <td>99.4800</td>\n",
       "      <td>99.5200</td>\n",
       "      <td>98.6000</td>\n",
       "      <td>98.8735</td>\n",
       "      <td>1598674</td>\n",
       "      <td>98.954405</td>\n",
       "    </tr>\n",
       "    <tr>\n",
       "      <th>2022-04-12 10:10:00-04:00</th>\n",
       "      <td>2022-04-12 10:10:00-04:00</td>\n",
       "      <td>98.9100</td>\n",
       "      <td>99.3334</td>\n",
       "      <td>98.6100</td>\n",
       "      <td>98.7500</td>\n",
       "      <td>1549992</td>\n",
       "      <td>98.982267</td>\n",
       "    </tr>\n",
       "    <tr>\n",
       "      <th>2022-04-12 10:15:00-04:00</th>\n",
       "      <td>2022-04-12 10:15:00-04:00</td>\n",
       "      <td>98.7537</td>\n",
       "      <td>98.7900</td>\n",
       "      <td>97.8200</td>\n",
       "      <td>97.9300</td>\n",
       "      <td>1786526</td>\n",
       "      <td>98.333029</td>\n",
       "    </tr>\n",
       "  </tbody>\n",
       "</table>\n",
       "<p>22687 rows × 7 columns</p>\n",
       "</div>"
      ],
      "text/plain": [
       "                                               Time      Open      High  \\\n",
       "timestamp                                                                 \n",
       "2021-10-14 10:20:00-04:00 2021-10-14 10:20:00-04:00  111.0000  111.2400   \n",
       "2021-10-14 10:25:00-04:00 2021-10-14 10:25:00-04:00  111.1650  111.2300   \n",
       "2021-10-14 10:30:00-04:00 2021-10-14 10:30:00-04:00  110.9287  111.1550   \n",
       "2021-10-14 10:35:00-04:00 2021-10-14 10:35:00-04:00  111.1500  111.3300   \n",
       "2021-10-14 10:40:00-04:00 2021-10-14 10:40:00-04:00  111.2911  111.4900   \n",
       "...                                             ...       ...       ...   \n",
       "2022-04-12 09:55:00-04:00 2022-04-12 09:55:00-04:00   98.9700   99.1200   \n",
       "2022-04-12 10:00:00-04:00 2022-04-12 10:00:00-04:00   98.8400   99.5900   \n",
       "2022-04-12 10:05:00-04:00 2022-04-12 10:05:00-04:00   99.4800   99.5200   \n",
       "2022-04-12 10:10:00-04:00 2022-04-12 10:10:00-04:00   98.9100   99.3334   \n",
       "2022-04-12 10:15:00-04:00 2022-04-12 10:15:00-04:00   98.7537   98.7900   \n",
       "\n",
       "                                Low     Close   Volume  VolumeWeightedAvgPrice  \n",
       "timestamp                                                                       \n",
       "2021-10-14 10:20:00-04:00  110.8501  111.1700   712106              111.051553  \n",
       "2021-10-14 10:25:00-04:00  110.9110  110.9300   520095              111.088551  \n",
       "2021-10-14 10:30:00-04:00  110.7200  111.1400   803101              110.944363  \n",
       "2021-10-14 10:35:00-04:00  111.1000  111.2900   688936              111.234813  \n",
       "2021-10-14 10:40:00-04:00  111.1500  111.4800  1332120              111.269463  \n",
       "...                             ...       ...      ...                     ...  \n",
       "2022-04-12 09:55:00-04:00   98.6200   98.8000  1602929               98.901517  \n",
       "2022-04-12 10:00:00-04:00   98.4500   99.4800  2022568               99.127614  \n",
       "2022-04-12 10:05:00-04:00   98.6000   98.8735  1598674               98.954405  \n",
       "2022-04-12 10:10:00-04:00   98.6100   98.7500  1549992               98.982267  \n",
       "2022-04-12 10:15:00-04:00   97.8200   97.9300  1786526               98.333029  \n",
       "\n",
       "[22687 rows x 7 columns]"
      ]
     },
     "execution_count": 4,
     "metadata": {},
     "output_type": "execute_result"
    }
   ],
   "source": [
    "train_df"
   ]
  },
  {
   "cell_type": "code",
   "execution_count": 5,
   "id": "bf1732ec-889b-41d0-89ee-0f8dde39b7d0",
   "metadata": {},
   "outputs": [
    {
     "data": {
      "text/plain": [
       "['binance',\n",
       " 'blueskies',\n",
       " 'brasil',\n",
       " 'charles',\n",
       " 'checkers',\n",
       " 'classic',\n",
       " 'default',\n",
       " 'ibd',\n",
       " 'kenan',\n",
       " 'mike',\n",
       " 'nightclouds',\n",
       " 'sas',\n",
       " 'starsandstripes',\n",
       " 'yahoo']"
      ]
     },
     "execution_count": 5,
     "metadata": {},
     "output_type": "execute_result"
    }
   ],
   "source": [
    "fplt.available_styles()"
   ]
  },
  {
   "cell_type": "code",
   "execution_count": 6,
   "id": "c8379f97-cc25-42ad-a35e-2b54ab58371f",
   "metadata": {},
   "outputs": [
    {
     "data": {
      "image/png": "[encoded data removed]",
      "text/plain": [
       "<Figure size 800x575 with 4 Axes>"
      ]
     },
     "metadata": {},
     "output_type": "display_data"
    }
   ],
   "source": [
    "fplt.plot(\n",
    "            train_df[100:150],\n",
    "            type='candle',\n",
    "            style='blueskies',\n",
    "            volume=True,\n",
    "            show_nontrading=False\n",
    "            )"
   ]
  },
  {
   "cell_type": "code",
   "execution_count": 33,
   "id": "e2bd0860-b0e6-4df2-a1c7-c1e35727c2c2",
   "metadata": {},
   "outputs": [
    {
     "data": {
      "image/png": "[encoded data removed]",
      "text/plain": [
       "<IPython.core.display.Image object>"
      ]
     },
     "execution_count": 33,
     "metadata": {},
     "output_type": "execute_result"
    }
   ],
   "source": [
    "import IPython.display as IPydisplay\n",
    "\n",
    "plot_df = train_df[125:149].between_time('9:29', '15:59')\n",
    "\n",
    "fplt.plot(\n",
    "            plot_df,\n",
    "            type='candle',\n",
    "            style='yahoo',\n",
    "            volume=True,\n",
    "            savefig=\"test.png\",\n",
    "            show_nontrading=False\n",
    "            )\n",
    "\n",
    "IPydisplay.Image(\"test.png\")"
   ]
  },
  {
   "cell_type": "code",
   "execution_count": 8,
   "id": "d6def070-3bac-49bd-8bff-b1ea9888e18e",
   "metadata": {},
   "outputs": [
    {
     "data": {
      "text/plain": [
       "0.017754105636925005"
      ]
     },
     "execution_count": 8,
     "metadata": {},
     "output_type": "execute_result"
    }
   ],
   "source": [
    "((train_df[\"Close\"][137] - train_df[\"Close\"][136])/train_df[\"Close\"][136]) * 100"
   ]
  },
  {
   "cell_type": "code",
   "execution_count": 9,
   "id": "2f5fa4eb-8619-4f3f-8969-6de5c47b59eb",
   "metadata": {},
   "outputs": [
    {
     "data": {
      "text/plain": [
       "112.25"
      ]
     },
     "execution_count": 9,
     "metadata": {},
     "output_type": "execute_result"
    }
   ],
   "source": [
    "train_df[\"Close\"][107] "
   ]
  },
  {
   "cell_type": "code",
   "execution_count": 10,
   "id": "74b47680-f759-4371-ba76-1d453cd45716",
   "metadata": {},
   "outputs": [
    {
     "data": {
      "text/plain": [
       "112.26"
      ]
     },
     "execution_count": 10,
     "metadata": {},
     "output_type": "execute_result"
    }
   ],
   "source": [
    "train_df[\"Close\"][106]"
   ]
  },
  {
   "cell_type": "code",
   "execution_count": 44,
   "id": "e35dbd94-f0f4-4515-89f4-c1a5e4ac9265",
   "metadata": {},
   "outputs": [
    {
     "name": "stdout",
     "output_type": "stream",
     "text": [
      "[datetime.time(9, 30) datetime.time(9, 35) datetime.time(9, 40)\n",
      " datetime.time(9, 45) datetime.time(9, 50) datetime.time(9, 55)\n",
      " datetime.time(10, 0) datetime.time(10, 5) datetime.time(10, 10)\n",
      " datetime.time(10, 15) datetime.time(10, 20) datetime.time(10, 25)\n",
      " datetime.time(10, 30) datetime.time(10, 35) datetime.time(10, 40)\n",
      " datetime.time(10, 45) datetime.time(10, 50) datetime.time(10, 55)\n",
      " datetime.time(11, 0) datetime.time(11, 5) datetime.time(11, 10)\n",
      " datetime.time(11, 15) datetime.time(11, 20) datetime.time(11, 25)\n",
      " datetime.time(11, 30) datetime.time(11, 35) datetime.time(11, 40)\n",
      " datetime.time(11, 45) datetime.time(11, 50) datetime.time(11, 55)\n",
      " datetime.time(12, 0) datetime.time(12, 5) datetime.time(12, 10)\n",
      " datetime.time(12, 15) datetime.time(12, 20) datetime.time(12, 25)\n",
      " datetime.time(12, 30) datetime.time(12, 35) datetime.time(12, 40)\n",
      " datetime.time(12, 45) datetime.time(12, 50) datetime.time(12, 55)\n",
      " datetime.time(13, 0) datetime.time(13, 5) datetime.time(13, 10)\n",
      " datetime.time(13, 15) datetime.time(13, 20) datetime.time(13, 25)\n",
      " datetime.time(13, 30) datetime.time(13, 35) datetime.time(13, 40)\n",
      " datetime.time(13, 45) datetime.time(13, 50) datetime.time(13, 55)\n",
      " datetime.time(14, 0) datetime.time(14, 5) datetime.time(14, 10)\n",
      " datetime.time(14, 15) datetime.time(14, 20) datetime.time(14, 25)\n",
      " datetime.time(14, 30) datetime.time(14, 35) datetime.time(14, 40)\n",
      " datetime.time(14, 45) datetime.time(14, 50) datetime.time(14, 55)\n",
      " datetime.time(15, 0) datetime.time(15, 5) datetime.time(15, 10)\n",
      " datetime.time(15, 15) datetime.time(15, 20) datetime.time(15, 25)\n",
      " datetime.time(15, 30) datetime.time(15, 35) datetime.time(15, 40)\n",
      " datetime.time(15, 45) datetime.time(15, 50) datetime.time(15, 55)\n",
      " datetime.time(16, 0)]\n"
     ]
    }
   ],
   "source": [
    "date_ranges = pd.date_range(\"9:30\", \"16:00\", freq =\"5Min\").time\n",
    "print(date_ranges)"
   ]
  },
  {
   "cell_type": "code",
   "execution_count": 102,
   "id": "cd997321-00a7-4df4-a0c9-053f96e84af6",
   "metadata": {},
   "outputs": [
    {
     "data": {
      "text/plain": [
       "'2021-10-14'"
      ]
     },
     "execution_count": 102,
     "metadata": {},
     "output_type": "execute_result"
    }
   ],
   "source": [
    "str(train_df[\"Time\"][0].date())"
   ]
  },
  {
   "cell_type": "code",
   "execution_count": 98,
   "id": "f12c1781-f8b2-43dd-b53e-b325ef6e6187",
   "metadata": {},
   "outputs": [
    {
     "data": {
      "text/plain": [
       "False"
      ]
     },
     "execution_count": 98,
     "metadata": {},
     "output_type": "execute_result"
    }
   ],
   "source": [
    "time(10,30) <= train_df[\"Time\"][0].time() <= time(16,30)"
   ]
  },
  {
   "cell_type": "code",
   "execution_count": 72,
   "id": "c0d4f954-351a-46ce-a052-598b30f7075e",
   "metadata": {},
   "outputs": [
    {
     "data": {
      "text/html": [
       "<div>\n",
       "<style scoped>\n",
       "    .dataframe tbody tr th:only-of-type {\n",
       "        vertical-align: middle;\n",
       "    }\n",
       "\n",
       "    .dataframe tbody tr th {\n",
       "        vertical-align: top;\n",
       "    }\n",
       "\n",
       "    .dataframe thead th {\n",
       "        text-align: right;\n",
       "    }\n",
       "</style>\n",
       "<table border=\"1\" class=\"dataframe\">\n",
       "  <thead>\n",
       "    <tr style=\"text-align: right;\">\n",
       "      <th></th>\n",
       "      <th>Time</th>\n",
       "      <th>Open</th>\n",
       "      <th>High</th>\n",
       "      <th>Low</th>\n",
       "      <th>Close</th>\n",
       "      <th>Volume</th>\n",
       "      <th>VolumeWeightedAvgPrice</th>\n",
       "    </tr>\n",
       "    <tr>\n",
       "      <th>timestamp</th>\n",
       "      <th></th>\n",
       "      <th></th>\n",
       "      <th></th>\n",
       "      <th></th>\n",
       "      <th></th>\n",
       "      <th></th>\n",
       "      <th></th>\n",
       "    </tr>\n",
       "  </thead>\n",
       "  <tbody>\n",
       "  </tbody>\n",
       "</table>\n",
       "</div>"
      ],
      "text/plain": [
       "Empty DataFrame\n",
       "Columns: [Time, Open, High, Low, Close, Volume, VolumeWeightedAvgPrice]\n",
       "Index: []"
      ]
     },
     "execution_count": 72,
     "metadata": {},
     "output_type": "execute_result"
    }
   ],
   "source": [
    "train_df[\"Time\"] = train_df.index\n",
    "train_df[train_df[\"Time\"].between(str(train_df.index.date[2]), str(train_df.index.date[10]))]\n"
   ]
  },
  {
   "cell_type": "code",
   "execution_count": null,
   "id": "5d6c6461-a066-4489-bf0b-ff0f34681226",
   "metadata": {},
   "outputs": [],
   "source": [
    "for date in train_df.index.date:\n",
    "    print(date)\n",
    "    print(len(train_df[train_df.index == date]))\n"
   ]
  },
  {
   "cell_type": "code",
   "execution_count": 83,
   "id": "42be1c29-44f4-4b6c-8d4b-4ab6e9ce518d",
   "metadata": {},
   "outputs": [
    {
     "data": {
      "text/plain": [
       "10"
      ]
     },
     "execution_count": 83,
     "metadata": {},
     "output_type": "execute_result"
    }
   ],
   "source": [
    "train_df.iloc[3]['Time'].hour"
   ]
  },
  {
   "cell_type": "code",
   "execution_count": 93,
   "id": "4ecd14cb-eb4e-47d6-8692-0d66b93b5775",
   "metadata": {},
   "outputs": [
    {
     "data": {
      "text/plain": [
       "10"
      ]
     },
     "execution_count": 93,
     "metadata": {},
     "output_type": "execute_result"
    }
   ],
   "source": [
    "train_df.Time[1].hour"
   ]
  },
  {
   "cell_type": "code",
   "execution_count": 90,
   "id": "83310ed3-5fc5-4219-8cdb-743484e2033e",
   "metadata": {},
   "outputs": [
    {
     "data": {
      "text/plain": [
       "datetime.time(9, 30)"
      ]
     },
     "execution_count": 90,
     "metadata": {},
     "output_type": "execute_result"
    }
   ],
   "source": [
    "time(9, 30)"
   ]
  },
  {
   "cell_type": "code",
   "execution_count": 92,
   "id": "df47c6b6-894c-4181-8244-4b56c33787cd",
   "metadata": {},
   "outputs": [
    {
     "data": {
      "text/plain": [
       "Timestamp('2021-10-14 10:25:00-0400', tz='US/Eastern')"
      ]
     },
     "execution_count": 92,
     "metadata": {},
     "output_type": "execute_result"
    }
   ],
   "source": [
    "train_df.Time[1]"
   ]
  },
  {
   "cell_type": "code",
   "execution_count": 107,
   "id": "b87e6ab9-c50f-44a2-9297-cb7b750cca52",
   "metadata": {},
   "outputs": [
    {
     "ename": "AttributeError",
     "evalue": "'datetime.date' object has no attribute 'str'",
     "output_type": "error",
     "traceback": [
      "\u001b[1;31m---------------------------------------------------------------------------\u001b[0m",
      "\u001b[1;31mAttributeError\u001b[0m                            Traceback (most recent call last)",
      "Input \u001b[1;32mIn [107]\u001b[0m, in \u001b[0;36m<cell line: 1>\u001b[1;34m()\u001b[0m\n\u001b[1;32m----> 1\u001b[0m \u001b[43mplot_label\u001b[49m\u001b[43m(\u001b[49m\u001b[43mtrain_df\u001b[49m\u001b[43m,\u001b[49m\u001b[43m \u001b[49m\u001b[38;5;124;43m\"\u001b[39;49m\u001b[38;5;124;43mAMD\u001b[39;49m\u001b[38;5;124;43m\"\u001b[39;49m\u001b[43m,\u001b[49m\u001b[43m \u001b[49m\u001b[43mwindow\u001b[49m\u001b[43m \u001b[49m\u001b[38;5;241;43m=\u001b[39;49m\u001b[43m \u001b[49m\u001b[38;5;241;43m6\u001b[39;49m\u001b[43m,\u001b[49m\u001b[43m \u001b[49m\u001b[43mpredict_offset\u001b[49m\u001b[43m \u001b[49m\u001b[38;5;241;43m=\u001b[39;49m\u001b[43m \u001b[49m\u001b[38;5;241;43m2\u001b[39;49m\u001b[43m)\u001b[49m\n",
      "Input \u001b[1;32mIn [106]\u001b[0m, in \u001b[0;36mplot_label\u001b[1;34m(df, stock_name, window, predict_offset)\u001b[0m\n\u001b[0;32m     75\u001b[0m diff_percent \u001b[38;5;241m=\u001b[39m diff_value \u001b[38;5;241m/\u001b[39m df\u001b[38;5;241m.\u001b[39mClose[i\u001b[38;5;241m+\u001b[39mwindow]\n\u001b[0;32m     77\u001b[0m time \u001b[38;5;241m=\u001b[39m df[\u001b[38;5;124m\"\u001b[39m\u001b[38;5;124mTime\u001b[39m\u001b[38;5;124m\"\u001b[39m][i]\u001b[38;5;241m.\u001b[39mtime()\n\u001b[1;32m---> 78\u001b[0m date_str \u001b[38;5;241m=\u001b[39m \u001b[43mtrain_df\u001b[49m\u001b[43m[\u001b[49m\u001b[38;5;124;43m\"\u001b[39;49m\u001b[38;5;124;43mTime\u001b[39;49m\u001b[38;5;124;43m\"\u001b[39;49m\u001b[43m]\u001b[49m\u001b[43m[\u001b[49m\u001b[38;5;241;43m0\u001b[39;49m\u001b[43m]\u001b[49m\u001b[38;5;241;43m.\u001b[39;49m\u001b[43mdate\u001b[49m\u001b[43m(\u001b[49m\u001b[43m)\u001b[49m\u001b[38;5;241;43m.\u001b[39;49m\u001b[43mstr\u001b[49m()\n\u001b[0;32m     79\u001b[0m time_str \u001b[38;5;241m=\u001b[39m time\u001b[38;5;241m.\u001b[39mstr()\n\u001b[0;32m     81\u001b[0m \u001b[38;5;66;03m# create str label\u001b[39;00m\n",
      "\u001b[1;31mAttributeError\u001b[0m: 'datetime.date' object has no attribute 'str'"
     ]
    }
   ],
   "source": [
    "plot_label(train_df, \"AMD\", window = 6, predict_offset = 2)"
   ]
  },
  {
   "cell_type": "code",
   "execution_count": null,
   "id": "de82300d-5ef8-4f20-a400-a0faf595e3da",
   "metadata": {},
   "outputs": [],
   "source": []
  }
 ],
 "metadata": {
  "kernelspec": {
   "display_name": "Python 3 (ipykernel)",
   "language": "python",
   "name": "python3"
  },
  "language_info": {
   "codemirror_mode": {
    "name": "ipython",
    "version": 3
   },
   "file_extension": ".py",
   "mimetype": "text/x-python",
   "name": "python",
   "nbconvert_exporter": "python",
   "pygments_lexer": "ipython3",
   "version": "3.9.10"
  }
 },
 "nbformat": 4,
 "nbformat_minor": 5
}
