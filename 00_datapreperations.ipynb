{
 "cells": [
  {
   "cell_type": "code",
   "execution_count": 1,
   "id": "494edb65-864b-4691-8c8c-4a9f9a4017a3",
   "metadata": {},
   "outputs": [],
   "source": [
    "# Import Dependencies\n",
    "import numpy as np\n",
    "import pandas as pd\n",
    "import alpaca_trade_api as tradeapi\n",
    "from datetime import datetime, timedelta, tzinfo, timezone, time,  date\n",
    "import os\n",
    "import sys\n",
    "import ast\n",
    "import threading\n",
    "import math\n",
    "import seaborn as sns\n",
    "import matplotlib.pyplot as plt\n",
    "import warnings\n",
    "from alive_progress import alive_bar\n",
    "import mplfinance as fplt\n",
    "\n",
    "try:\n",
    "    from config import *\n",
    "except:\n",
    "    from ..config import *\n",
    "\n",
    "# Establish api from where the data will be pulled\n",
    "api_paper = tradeapi.REST(PAPER_API_KEY, PAPER_SECRET_KEY, PAPER_BASE_URL, api_version='v2')"
   ]
  },
  {
   "cell_type": "markdown",
   "id": "aba6363f-72e4-42dc-b72b-b55801741688",
   "metadata": {},
   "source": [
    "### Functions"
   ]
  },
  {
   "cell_type": "code",
   "execution_count": 2,
   "id": "cdd9a451-a160-42d2-ae41-780a009120dd",
   "metadata": {},
   "outputs": [],
   "source": [
    "def pull_data(ticker, interval, api = api_paper, num_of_days = 180, offset_days = 0):\n",
    "    ticker_data_dict = None\n",
    "    ticker_data_dict = {}\n",
    "    monthly_data_dict = None\n",
    "    monthly_data_dict = {}\n",
    "    interval_loop_data = None\n",
    "    interval_loop_data = pd.DataFrame()\n",
    "    stock_data = None\n",
    "    \n",
    "    days_to_collect = num_of_days + offset_days\n",
    "\n",
    "    TZ = 'US/Eastern'\n",
    "\n",
    "    start = pd.to_datetime((datetime.now() - timedelta(days=days_to_collect)).strftime(\"%Y-%m-%d %H:%M\"), utc=True)\n",
    "    end = pd.to_datetime(datetime.now().strftime(\"%Y-%m-%d %H:%M\"), utc=True)\n",
    "\n",
    "    stock_data = api.get_bars(ticker, interval, start = start.isoformat(), end=end.isoformat(), adjustment=\"raw\").df\n",
    "    \n",
    "    interval_loop_data = pd.concat([interval_loop_data, stock_data])\n",
    "    df_start_ref = interval_loop_data.index[0]\n",
    "    start_str_ref = pd.to_datetime(start, utc=True)\n",
    "\n",
    "    while start_str_ref.value < ( pd.to_datetime(df_start_ref, utc=True) - pd.Timedelta(days=2.5)).value:\n",
    "        end_new = pd.to_datetime(interval_loop_data.index[0].strftime(\"%Y-%m-%d %H:%M\"), utc=True).isoformat()\n",
    "        stock_data_new = None\n",
    "        stock_data_new = api.get_bars(ticker, interval, start=start, end=end_new, adjustment=\"raw\").df\n",
    "        #stock_data_new = stock_data_new.reset_index()\n",
    "        interval_loop_data = interval_loop_data.append(stock_data_new).sort_values(by=['index'], ascending=True)\n",
    "        df_start_ref = interval_loop_data.index[0]\n",
    "        \n",
    "    stock_yr_min_df = interval_loop_data.copy()\n",
    "    stock_yr_min_df[\"Open\"] = stock_yr_min_df['open']\n",
    "    stock_yr_min_df[\"High\"]= stock_yr_min_df[\"high\"]\n",
    "    stock_yr_min_df[\"Low\"] = stock_yr_min_df[\"low\"]\n",
    "    stock_yr_min_df[\"Close\"] = stock_yr_min_df[\"close\"]\n",
    "    stock_yr_min_df[\"Volume\"] = stock_yr_min_df[\"volume\"]\n",
    "    stock_yr_min_df[\"VolumeWeightedAvgPrice\"] = stock_yr_min_df[\"vwap\"]\n",
    "    stock_yr_min_df[\"Time\"] = stock_yr_min_df.index.tz_convert(TZ)\n",
    "    stock_yr_min_df.index = stock_yr_min_df.index.tz_convert(TZ)\n",
    "    final_df = stock_yr_min_df.filter([\"Time\", \"Open\", \"High\", \"Low\", \"Close\", \"Volume\", \"VolumeWeightedAvgPrice\"], axis = 1)\n",
    "    \n",
    "    first_day = final_df.index[0]\n",
    "    last_day = final_df.index[-1] - pd.Timedelta(days= offset_days)\n",
    "    training_df =  final_df.loc[:last_day] \n",
    "    offset_df =  final_df.loc[last_day:]\n",
    "    \n",
    "    return training_df, offset_df"
   ]
  },
  {
   "cell_type": "markdown",
   "id": "f5326a54-7f7f-422a-87d0-9f7038dcb5ec",
   "metadata": {},
   "source": [
    "### Importing raw data"
   ]
  },
  {
   "cell_type": "code",
   "execution_count": 57,
   "id": "1d3a70a4-8824-45ec-a7f0-650a2b0e8d6f",
   "metadata": {},
   "outputs": [],
   "source": [
    "train_df, offset_df = pull_data(\"AMD\", \"5Min\", api_paper, num_of_days = 180, offset_days = 0)"
   ]
  },
  {
   "cell_type": "markdown",
   "id": "dc77312a-c903-4524-b032-67436c6eb325",
   "metadata": {},
   "source": [
    "### Building Data Plots"
   ]
  },
  {
   "cell_type": "code",
   "execution_count": 58,
   "id": "b6203017-199f-403c-bcb0-5d2dce12fb2a",
   "metadata": {},
   "outputs": [
    {
     "data": {
      "text/html": [
       "<div>\n",
       "<style scoped>\n",
       "    .dataframe tbody tr th:only-of-type {\n",
       "        vertical-align: middle;\n",
       "    }\n",
       "\n",
       "    .dataframe tbody tr th {\n",
       "        vertical-align: top;\n",
       "    }\n",
       "\n",
       "    .dataframe thead th {\n",
       "        text-align: right;\n",
       "    }\n",
       "</style>\n",
       "<table border=\"1\" class=\"dataframe\">\n",
       "  <thead>\n",
       "    <tr style=\"text-align: right;\">\n",
       "      <th></th>\n",
       "      <th>Time</th>\n",
       "      <th>Open</th>\n",
       "      <th>High</th>\n",
       "      <th>Low</th>\n",
       "      <th>Close</th>\n",
       "      <th>Volume</th>\n",
       "      <th>VolumeWeightedAvgPrice</th>\n",
       "    </tr>\n",
       "    <tr>\n",
       "      <th>timestamp</th>\n",
       "      <th></th>\n",
       "      <th></th>\n",
       "      <th></th>\n",
       "      <th></th>\n",
       "      <th></th>\n",
       "      <th></th>\n",
       "      <th></th>\n",
       "    </tr>\n",
       "  </thead>\n",
       "  <tbody>\n",
       "    <tr>\n",
       "      <th>2021-10-11 04:00:00-04:00</th>\n",
       "      <td>2021-10-11 04:00:00-04:00</td>\n",
       "      <td>104.70</td>\n",
       "      <td>104.70</td>\n",
       "      <td>104.70</td>\n",
       "      <td>104.70</td>\n",
       "      <td>526</td>\n",
       "      <td>104.636312</td>\n",
       "    </tr>\n",
       "    <tr>\n",
       "      <th>2021-10-11 04:20:00-04:00</th>\n",
       "      <td>2021-10-11 04:20:00-04:00</td>\n",
       "      <td>104.63</td>\n",
       "      <td>104.63</td>\n",
       "      <td>104.63</td>\n",
       "      <td>104.63</td>\n",
       "      <td>388</td>\n",
       "      <td>104.585438</td>\n",
       "    </tr>\n",
       "    <tr>\n",
       "      <th>2021-10-11 04:25:00-04:00</th>\n",
       "      <td>2021-10-11 04:25:00-04:00</td>\n",
       "      <td>104.53</td>\n",
       "      <td>104.53</td>\n",
       "      <td>104.53</td>\n",
       "      <td>104.53</td>\n",
       "      <td>115</td>\n",
       "      <td>104.546957</td>\n",
       "    </tr>\n",
       "    <tr>\n",
       "      <th>2021-10-11 04:55:00-04:00</th>\n",
       "      <td>2021-10-11 04:55:00-04:00</td>\n",
       "      <td>104.38</td>\n",
       "      <td>104.38</td>\n",
       "      <td>104.38</td>\n",
       "      <td>104.38</td>\n",
       "      <td>125</td>\n",
       "      <td>104.391680</td>\n",
       "    </tr>\n",
       "    <tr>\n",
       "      <th>2021-10-11 05:00:00-04:00</th>\n",
       "      <td>2021-10-11 05:00:00-04:00</td>\n",
       "      <td>104.39</td>\n",
       "      <td>104.39</td>\n",
       "      <td>104.29</td>\n",
       "      <td>104.29</td>\n",
       "      <td>1037</td>\n",
       "      <td>104.365873</td>\n",
       "    </tr>\n",
       "    <tr>\n",
       "      <th>...</th>\n",
       "      <td>...</td>\n",
       "      <td>...</td>\n",
       "      <td>...</td>\n",
       "      <td>...</td>\n",
       "      <td>...</td>\n",
       "      <td>...</td>\n",
       "      <td>...</td>\n",
       "    </tr>\n",
       "    <tr>\n",
       "      <th>2022-04-07 07:30:00-04:00</th>\n",
       "      <td>2022-04-07 07:30:00-04:00</td>\n",
       "      <td>104.28</td>\n",
       "      <td>104.28</td>\n",
       "      <td>104.15</td>\n",
       "      <td>104.25</td>\n",
       "      <td>5642</td>\n",
       "      <td>104.245984</td>\n",
       "    </tr>\n",
       "    <tr>\n",
       "      <th>2022-04-07 07:35:00-04:00</th>\n",
       "      <td>2022-04-07 07:35:00-04:00</td>\n",
       "      <td>104.22</td>\n",
       "      <td>104.35</td>\n",
       "      <td>104.20</td>\n",
       "      <td>104.20</td>\n",
       "      <td>2792</td>\n",
       "      <td>104.266630</td>\n",
       "    </tr>\n",
       "    <tr>\n",
       "      <th>2022-04-07 07:40:00-04:00</th>\n",
       "      <td>2022-04-07 07:40:00-04:00</td>\n",
       "      <td>104.17</td>\n",
       "      <td>104.20</td>\n",
       "      <td>104.15</td>\n",
       "      <td>104.18</td>\n",
       "      <td>3127</td>\n",
       "      <td>104.156649</td>\n",
       "    </tr>\n",
       "    <tr>\n",
       "      <th>2022-04-07 07:45:00-04:00</th>\n",
       "      <td>2022-04-07 07:45:00-04:00</td>\n",
       "      <td>104.25</td>\n",
       "      <td>104.26</td>\n",
       "      <td>104.25</td>\n",
       "      <td>104.26</td>\n",
       "      <td>1151</td>\n",
       "      <td>104.252389</td>\n",
       "    </tr>\n",
       "    <tr>\n",
       "      <th>2022-04-07 07:50:00-04:00</th>\n",
       "      <td>2022-04-07 07:50:00-04:00</td>\n",
       "      <td>104.27</td>\n",
       "      <td>104.40</td>\n",
       "      <td>104.27</td>\n",
       "      <td>104.40</td>\n",
       "      <td>5591</td>\n",
       "      <td>104.313794</td>\n",
       "    </tr>\n",
       "  </tbody>\n",
       "</table>\n",
       "<p>22672 rows × 7 columns</p>\n",
       "</div>"
      ],
      "text/plain": [
       "                                               Time    Open    High     Low  \\\n",
       "timestamp                                                                     \n",
       "2021-10-11 04:00:00-04:00 2021-10-11 04:00:00-04:00  104.70  104.70  104.70   \n",
       "2021-10-11 04:20:00-04:00 2021-10-11 04:20:00-04:00  104.63  104.63  104.63   \n",
       "2021-10-11 04:25:00-04:00 2021-10-11 04:25:00-04:00  104.53  104.53  104.53   \n",
       "2021-10-11 04:55:00-04:00 2021-10-11 04:55:00-04:00  104.38  104.38  104.38   \n",
       "2021-10-11 05:00:00-04:00 2021-10-11 05:00:00-04:00  104.39  104.39  104.29   \n",
       "...                                             ...     ...     ...     ...   \n",
       "2022-04-07 07:30:00-04:00 2022-04-07 07:30:00-04:00  104.28  104.28  104.15   \n",
       "2022-04-07 07:35:00-04:00 2022-04-07 07:35:00-04:00  104.22  104.35  104.20   \n",
       "2022-04-07 07:40:00-04:00 2022-04-07 07:40:00-04:00  104.17  104.20  104.15   \n",
       "2022-04-07 07:45:00-04:00 2022-04-07 07:45:00-04:00  104.25  104.26  104.25   \n",
       "2022-04-07 07:50:00-04:00 2022-04-07 07:50:00-04:00  104.27  104.40  104.27   \n",
       "\n",
       "                            Close  Volume  VolumeWeightedAvgPrice  \n",
       "timestamp                                                          \n",
       "2021-10-11 04:00:00-04:00  104.70     526              104.636312  \n",
       "2021-10-11 04:20:00-04:00  104.63     388              104.585438  \n",
       "2021-10-11 04:25:00-04:00  104.53     115              104.546957  \n",
       "2021-10-11 04:55:00-04:00  104.38     125              104.391680  \n",
       "2021-10-11 05:00:00-04:00  104.29    1037              104.365873  \n",
       "...                           ...     ...                     ...  \n",
       "2022-04-07 07:30:00-04:00  104.25    5642              104.245984  \n",
       "2022-04-07 07:35:00-04:00  104.20    2792              104.266630  \n",
       "2022-04-07 07:40:00-04:00  104.18    3127              104.156649  \n",
       "2022-04-07 07:45:00-04:00  104.26    1151              104.252389  \n",
       "2022-04-07 07:50:00-04:00  104.40    5591              104.313794  \n",
       "\n",
       "[22672 rows x 7 columns]"
      ]
     },
     "execution_count": 58,
     "metadata": {},
     "output_type": "execute_result"
    }
   ],
   "source": [
    "train_df"
   ]
  },
  {
   "cell_type": "code",
   "execution_count": 59,
   "id": "bf1732ec-889b-41d0-89ee-0f8dde39b7d0",
   "metadata": {},
   "outputs": [
    {
     "data": {
      "text/plain": [
       "['binance',\n",
       " 'blueskies',\n",
       " 'brasil',\n",
       " 'charles',\n",
       " 'checkers',\n",
       " 'classic',\n",
       " 'default',\n",
       " 'ibd',\n",
       " 'kenan',\n",
       " 'mike',\n",
       " 'nightclouds',\n",
       " 'sas',\n",
       " 'starsandstripes',\n",
       " 'yahoo']"
      ]
     },
     "execution_count": 59,
     "metadata": {},
     "output_type": "execute_result"
    }
   ],
   "source": [
    "fplt.available_styles()"
   ]
  },
  {
   "cell_type": "code",
   "execution_count": 60,
   "id": "c8379f97-cc25-42ad-a35e-2b54ab58371f",
   "metadata": {},
   "outputs": [
    {
     "data": {
      "image/png": "[encoded data removed]",
      "text/plain": [
       "<Figure size 800x575 with 4 Axes>"
      ]
     },
     "metadata": {},
     "output_type": "display_data"
    }
   ],
   "source": [
    "fplt.plot(\n",
    "            train_df[100:150],\n",
    "            type='candle',\n",
    "            style='blueskies',\n",
    "            volume=True,\n",
    "            show_nontrading=False\n",
    "            )"
   ]
  },
  {
   "cell_type": "code",
   "execution_count": 61,
   "id": "e2bd0860-b0e6-4df2-a1c7-c1e35727c2c2",
   "metadata": {},
   "outputs": [
    {
     "data": {
      "image/png": "[encoded data removed]",
      "text/plain": [
       "<IPython.core.display.Image object>"
      ]
     },
     "execution_count": 61,
     "metadata": {},
     "output_type": "execute_result"
    }
   ],
   "source": [
    "import IPython.display as IPydisplay\n",
    "\n",
    "fplt.plot(\n",
    "            train_df[130:136],\n",
    "            type='candle',\n",
    "            style='yahoo',\n",
    "            volume=True,\n",
    "            savefig=\"test.png\"\n",
    "            )\n",
    "\n",
    "IPydisplay.Image(\"test.png\")"
   ]
  },
  {
   "cell_type": "code",
   "execution_count": 62,
   "id": "d6def070-3bac-49bd-8bff-b1ea9888e18e",
   "metadata": {},
   "outputs": [
    {
     "data": {
      "text/plain": [
       "-0.019116803670436083"
      ]
     },
     "execution_count": 62,
     "metadata": {},
     "output_type": "execute_result"
    }
   ],
   "source": [
    "((train_df[\"Close\"][137] - train_df[\"Close\"][136])/train_df[\"Close\"][136]) * 100"
   ]
  },
  {
   "cell_type": "code",
   "execution_count": 63,
   "id": "2f5fa4eb-8619-4f3f-8969-6de5c47b59eb",
   "metadata": {},
   "outputs": [
    {
     "data": {
      "text/plain": [
       "105.765"
      ]
     },
     "execution_count": 63,
     "metadata": {},
     "output_type": "execute_result"
    }
   ],
   "source": [
    "train_df[\"Close\"][107] "
   ]
  },
  {
   "cell_type": "code",
   "execution_count": 64,
   "id": "74b47680-f759-4371-ba76-1d453cd45716",
   "metadata": {},
   "outputs": [
    {
     "data": {
      "text/plain": [
       "105.68"
      ]
     },
     "execution_count": 64,
     "metadata": {},
     "output_type": "execute_result"
    }
   ],
   "source": [
    "train_df[\"Close\"][106]"
   ]
  },
  {
   "cell_type": "code",
   "execution_count": null,
   "id": "e35dbd94-f0f4-4515-89f4-c1a5e4ac9265",
   "metadata": {},
   "outputs": [],
   "source": []
  },
  {
   "cell_type": "code",
   "execution_count": 69,
   "id": "4e05dad3-ba5a-4a9f-a897-3ab7c34f9a1f",
   "metadata": {},
   "outputs": [
    {
     "ename": "ImportError",
     "evalue": "Numba needs NumPy 1.21 or less",
     "output_type": "error",
     "traceback": [
      "\u001b[1;31m---------------------------------------------------------------------------\u001b[0m",
      "\u001b[1;31mImportError\u001b[0m                               Traceback (most recent call last)",
      "Input \u001b[1;32mIn [69]\u001b[0m, in \u001b[0;36m<cell line: 1>\u001b[1;34m()\u001b[0m\n\u001b[1;32m----> 1\u001b[0m \u001b[38;5;28;01mimport\u001b[39;00m \u001b[38;5;21;01mvectorbt\u001b[39;00m \u001b[38;5;28;01mas\u001b[39;00m \u001b[38;5;21;01mvbt\u001b[39;00m\n\u001b[0;32m      3\u001b[0m alpaca_data \u001b[38;5;241m=\u001b[39m vbt\u001b[38;5;241m.\u001b[39mAlpacaData\u001b[38;5;241m.\u001b[39mdownload(\n\u001b[0;32m      4\u001b[0m     \u001b[38;5;124m\"\u001b[39m\u001b[38;5;124mAAPL\u001b[39m\u001b[38;5;124m\"\u001b[39m,\n\u001b[0;32m      5\u001b[0m     start\u001b[38;5;241m=\u001b[39m\u001b[38;5;124m'\u001b[39m\u001b[38;5;124m2 hours ago UTC\u001b[39m\u001b[38;5;124m'\u001b[39m,\n\u001b[0;32m      6\u001b[0m     end\u001b[38;5;241m=\u001b[39m\u001b[38;5;124m'\u001b[39m\u001b[38;5;124m15 minutes ago UTC\u001b[39m\u001b[38;5;124m'\u001b[39m,\n\u001b[0;32m      7\u001b[0m     interval\u001b[38;5;241m=\u001b[39m\u001b[38;5;124m'\u001b[39m\u001b[38;5;124m1m\u001b[39m\u001b[38;5;124m'\u001b[39m\n\u001b[0;32m      8\u001b[0m )\n\u001b[0;32m      9\u001b[0m alpaca_data\u001b[38;5;241m.\u001b[39mget()\n",
      "File \u001b[1;32m~\\AppData\\Roaming\\Python\\Python39\\site-packages\\vectorbt\\__init__.py:12\u001b[0m, in \u001b[0;36m<module>\u001b[1;34m\u001b[0m\n\u001b[0;32m      9\u001b[0m __version__ \u001b[38;5;241m=\u001b[39m _version\n\u001b[0;32m     11\u001b[0m \u001b[38;5;66;03m# Most important modules\u001b[39;00m\n\u001b[1;32m---> 12\u001b[0m \u001b[38;5;28;01mfrom\u001b[39;00m \u001b[38;5;21;01mvectorbt\u001b[39;00m\u001b[38;5;21;01m.\u001b[39;00m\u001b[38;5;21;01mgeneric\u001b[39;00m \u001b[38;5;28;01mimport\u001b[39;00m nb, plotting\n\u001b[0;32m     13\u001b[0m \u001b[38;5;28;01mfrom\u001b[39;00m \u001b[38;5;21;01mvectorbt\u001b[39;00m\u001b[38;5;21;01m.\u001b[39;00m\u001b[38;5;21;01m_settings\u001b[39;00m \u001b[38;5;28;01mimport\u001b[39;00m settings\n\u001b[0;32m     15\u001b[0m \u001b[38;5;66;03m# Most important classes\u001b[39;00m\n",
      "File \u001b[1;32m~\\AppData\\Roaming\\Python\\Python39\\site-packages\\vectorbt\\generic\\__init__.py:8\u001b[0m, in \u001b[0;36m<module>\u001b[1;34m\u001b[0m\n\u001b[0;32m      1\u001b[0m \u001b[38;5;66;03m# Copyright (c) 2021 Oleg Polakow. All rights reserved.\u001b[39;00m\n\u001b[0;32m      2\u001b[0m \u001b[38;5;66;03m# This code is licensed under Apache 2.0 with Commons Clause license (see LICENSE.md for details)\u001b[39;00m\n\u001b[0;32m      4\u001b[0m \u001b[38;5;124;03m\"\"\"Modules for working with any time series.\u001b[39;00m\n\u001b[0;32m      5\u001b[0m \n\u001b[0;32m      6\u001b[0m \u001b[38;5;124;03mIn contrast to the `vectorbt.base` sub-package, focuses on the data itself.\"\"\"\u001b[39;00m\n\u001b[1;32m----> 8\u001b[0m \u001b[38;5;28;01mfrom\u001b[39;00m \u001b[38;5;21;01mvectorbt\u001b[39;00m\u001b[38;5;21;01m.\u001b[39;00m\u001b[38;5;21;01mgeneric\u001b[39;00m\u001b[38;5;21;01m.\u001b[39;00m\u001b[38;5;21;01mdrawdowns\u001b[39;00m \u001b[38;5;28;01mimport\u001b[39;00m Drawdowns\n\u001b[0;32m      9\u001b[0m \u001b[38;5;28;01mfrom\u001b[39;00m \u001b[38;5;21;01mvectorbt\u001b[39;00m\u001b[38;5;21;01m.\u001b[39;00m\u001b[38;5;21;01mgeneric\u001b[39;00m\u001b[38;5;21;01m.\u001b[39;00m\u001b[38;5;21;01menums\u001b[39;00m \u001b[38;5;28;01mimport\u001b[39;00m \u001b[38;5;241m*\u001b[39m\n\u001b[0;32m     10\u001b[0m \u001b[38;5;28;01mfrom\u001b[39;00m \u001b[38;5;21;01mvectorbt\u001b[39;00m\u001b[38;5;21;01m.\u001b[39;00m\u001b[38;5;21;01mgeneric\u001b[39;00m\u001b[38;5;21;01m.\u001b[39;00m\u001b[38;5;21;01mranges\u001b[39;00m \u001b[38;5;28;01mimport\u001b[39;00m Ranges\n",
      "File \u001b[1;32m~\\AppData\\Roaming\\Python\\Python39\\site-packages\\vectorbt\\generic\\drawdowns.py:171\u001b[0m, in \u001b[0;36m<module>\u001b[1;34m\u001b[0m\n\u001b[0;32m    168\u001b[0m \u001b[38;5;28;01mimport\u001b[39;00m \u001b[38;5;21;01mpandas\u001b[39;00m \u001b[38;5;28;01mas\u001b[39;00m \u001b[38;5;21;01mpd\u001b[39;00m\n\u001b[0;32m    169\u001b[0m \u001b[38;5;28;01mimport\u001b[39;00m \u001b[38;5;21;01mplotly\u001b[39;00m\u001b[38;5;21;01m.\u001b[39;00m\u001b[38;5;21;01mgraph_objects\u001b[39;00m \u001b[38;5;28;01mas\u001b[39;00m \u001b[38;5;21;01mgo\u001b[39;00m\n\u001b[1;32m--> 171\u001b[0m \u001b[38;5;28;01mfrom\u001b[39;00m \u001b[38;5;21;01mvectorbt\u001b[39;00m \u001b[38;5;28;01mimport\u001b[39;00m _typing \u001b[38;5;28;01mas\u001b[39;00m tp\n\u001b[0;32m    172\u001b[0m \u001b[38;5;28;01mfrom\u001b[39;00m \u001b[38;5;21;01mvectorbt\u001b[39;00m\u001b[38;5;21;01m.\u001b[39;00m\u001b[38;5;21;01mbase\u001b[39;00m\u001b[38;5;21;01m.\u001b[39;00m\u001b[38;5;21;01marray_wrapper\u001b[39;00m \u001b[38;5;28;01mimport\u001b[39;00m ArrayWrapper\n\u001b[0;32m    173\u001b[0m \u001b[38;5;28;01mfrom\u001b[39;00m \u001b[38;5;21;01mvectorbt\u001b[39;00m\u001b[38;5;21;01m.\u001b[39;00m\u001b[38;5;21;01mbase\u001b[39;00m\u001b[38;5;21;01m.\u001b[39;00m\u001b[38;5;21;01mreshape_fns\u001b[39;00m \u001b[38;5;28;01mimport\u001b[39;00m to_2d_array, to_pd_array\n",
      "File \u001b[1;32m~\\AppData\\Roaming\\Python\\Python39\\site-packages\\vectorbt\\_typing.py:16\u001b[0m, in \u001b[0;36m<module>\u001b[1;34m\u001b[0m\n\u001b[0;32m     14\u001b[0m \u001b[38;5;28;01mfrom\u001b[39;00m \u001b[38;5;21;01mplotly\u001b[39;00m\u001b[38;5;21;01m.\u001b[39;00m\u001b[38;5;21;01mbasedatatypes\u001b[39;00m \u001b[38;5;28;01mimport\u001b[39;00m BaseFigure, BaseTraceType\n\u001b[0;32m     15\u001b[0m \u001b[38;5;28;01mfrom\u001b[39;00m \u001b[38;5;21;01mnumba\u001b[39;00m\u001b[38;5;21;01m.\u001b[39;00m\u001b[38;5;21;01mcore\u001b[39;00m\u001b[38;5;21;01m.\u001b[39;00m\u001b[38;5;21;01mregistry\u001b[39;00m \u001b[38;5;28;01mimport\u001b[39;00m CPUDispatcher\n\u001b[1;32m---> 16\u001b[0m \u001b[38;5;28;01mfrom\u001b[39;00m \u001b[38;5;21;01mnumba\u001b[39;00m\u001b[38;5;21;01m.\u001b[39;00m\u001b[38;5;21;01mtyped\u001b[39;00m \u001b[38;5;28;01mimport\u001b[39;00m List \u001b[38;5;28;01mas\u001b[39;00m NumbaList\n\u001b[0;32m     17\u001b[0m \u001b[38;5;28;01mfrom\u001b[39;00m \u001b[38;5;21;01mpathlib\u001b[39;00m \u001b[38;5;28;01mimport\u001b[39;00m Path\n\u001b[0;32m     19\u001b[0m \u001b[38;5;28;01mtry\u001b[39;00m:\n",
      "File \u001b[1;32m~\\AppData\\Roaming\\Python\\Python39\\site-packages\\numba\\typed\\__init__.py:14\u001b[0m, in \u001b[0;36m__getattr__\u001b[1;34m(name)\u001b[0m\n\u001b[0;32m     12\u001b[0m \u001b[38;5;28;01mif\u001b[39;00m name \u001b[38;5;129;01min\u001b[39;00m _delayed_symbols:\n\u001b[0;32m     13\u001b[0m     modpath \u001b[38;5;241m=\u001b[39m _delayed_symbols[name]\n\u001b[1;32m---> 14\u001b[0m     mod \u001b[38;5;241m=\u001b[39m \u001b[43mimportlib\u001b[49m\u001b[38;5;241;43m.\u001b[39;49m\u001b[43mimport_module\u001b[49m\u001b[43m(\u001b[49m\u001b[43mmodpath\u001b[49m\u001b[43m,\u001b[49m\u001b[43m \u001b[49m\u001b[38;5;18;43m__name__\u001b[39;49m\u001b[43m)\u001b[49m\n\u001b[0;32m     15\u001b[0m     \u001b[38;5;28;01mreturn\u001b[39;00m \u001b[38;5;28mgetattr\u001b[39m(mod, name)\n\u001b[0;32m     16\u001b[0m \u001b[38;5;28;01melse\u001b[39;00m:\n",
      "File \u001b[1;32m~\\miniconda3\\lib\\importlib\\__init__.py:127\u001b[0m, in \u001b[0;36mimport_module\u001b[1;34m(name, package)\u001b[0m\n\u001b[0;32m    125\u001b[0m             \u001b[38;5;28;01mbreak\u001b[39;00m\n\u001b[0;32m    126\u001b[0m         level \u001b[38;5;241m+\u001b[39m\u001b[38;5;241m=\u001b[39m \u001b[38;5;241m1\u001b[39m\n\u001b[1;32m--> 127\u001b[0m \u001b[38;5;28;01mreturn\u001b[39;00m \u001b[43m_bootstrap\u001b[49m\u001b[38;5;241;43m.\u001b[39;49m\u001b[43m_gcd_import\u001b[49m\u001b[43m(\u001b[49m\u001b[43mname\u001b[49m\u001b[43m[\u001b[49m\u001b[43mlevel\u001b[49m\u001b[43m:\u001b[49m\u001b[43m]\u001b[49m\u001b[43m,\u001b[49m\u001b[43m \u001b[49m\u001b[43mpackage\u001b[49m\u001b[43m,\u001b[49m\u001b[43m \u001b[49m\u001b[43mlevel\u001b[49m\u001b[43m)\u001b[49m\n",
      "File \u001b[1;32m~\\AppData\\Roaming\\Python\\Python39\\site-packages\\numba\\typed\\typedlist.py:17\u001b[0m, in \u001b[0;36m<module>\u001b[1;34m\u001b[0m\n\u001b[0;32m     15\u001b[0m \u001b[38;5;28;01mfrom\u001b[39;00m \u001b[38;5;21;01mnumba\u001b[39;00m\u001b[38;5;21;01m.\u001b[39;00m\u001b[38;5;21;01mcore\u001b[39;00m\u001b[38;5;21;01m.\u001b[39;00m\u001b[38;5;21;01mdispatcher\u001b[39;00m \u001b[38;5;28;01mimport\u001b[39;00m Dispatcher\n\u001b[0;32m     16\u001b[0m \u001b[38;5;28;01mfrom\u001b[39;00m \u001b[38;5;21;01mnumba\u001b[39;00m\u001b[38;5;21;01m.\u001b[39;00m\u001b[38;5;21;01mcore\u001b[39;00m \u001b[38;5;28;01mimport\u001b[39;00m types, config, cgutils\n\u001b[1;32m---> 17\u001b[0m \u001b[38;5;28;01mfrom\u001b[39;00m \u001b[38;5;21;01mnumba\u001b[39;00m \u001b[38;5;28;01mimport\u001b[39;00m njit, typeof\n\u001b[0;32m     18\u001b[0m \u001b[38;5;28;01mfrom\u001b[39;00m \u001b[38;5;21;01mnumba\u001b[39;00m\u001b[38;5;21;01m.\u001b[39;00m\u001b[38;5;21;01mcore\u001b[39;00m\u001b[38;5;21;01m.\u001b[39;00m\u001b[38;5;21;01mextending\u001b[39;00m \u001b[38;5;28;01mimport\u001b[39;00m (\n\u001b[0;32m     19\u001b[0m     overload,\n\u001b[0;32m     20\u001b[0m     box,\n\u001b[1;32m   (...)\u001b[0m\n\u001b[0;32m     24\u001b[0m     overload_classmethod,\n\u001b[0;32m     25\u001b[0m )\n\u001b[0;32m     26\u001b[0m \u001b[38;5;28;01mfrom\u001b[39;00m \u001b[38;5;21;01mnumba\u001b[39;00m\u001b[38;5;21;01m.\u001b[39;00m\u001b[38;5;21;01mtyped\u001b[39;00m \u001b[38;5;28;01mimport\u001b[39;00m listobject\n",
      "File \u001b[1;32m~\\AppData\\Roaming\\Python\\Python39\\site-packages\\numba\\__init__.py:200\u001b[0m, in \u001b[0;36m<module>\u001b[1;34m\u001b[0m\n\u001b[0;32m    197\u001b[0m     \u001b[38;5;28;01mreturn\u001b[39;00m \u001b[38;5;28;01mFalse\u001b[39;00m\n\u001b[0;32m    199\u001b[0m _ensure_llvm()\n\u001b[1;32m--> 200\u001b[0m \u001b[43m_ensure_critical_deps\u001b[49m\u001b[43m(\u001b[49m\u001b[43m)\u001b[49m\n\u001b[0;32m    202\u001b[0m \u001b[38;5;66;03m# we know llvmlite is working as the above tests passed, import it now as SVML\u001b[39;00m\n\u001b[0;32m    203\u001b[0m \u001b[38;5;66;03m# needs to mutate runtime options (sets the `-vector-library`).\u001b[39;00m\n\u001b[0;32m    204\u001b[0m \u001b[38;5;28;01mimport\u001b[39;00m \u001b[38;5;21;01mllvmlite\u001b[39;00m\n",
      "File \u001b[1;32m~\\AppData\\Roaming\\Python\\Python39\\site-packages\\numba\\__init__.py:140\u001b[0m, in \u001b[0;36m_ensure_critical_deps\u001b[1;34m()\u001b[0m\n\u001b[0;32m    138\u001b[0m     \u001b[38;5;28;01mraise\u001b[39;00m \u001b[38;5;167;01mImportError\u001b[39;00m(\u001b[38;5;124m\"\u001b[39m\u001b[38;5;124mNumba needs NumPy 1.18 or greater\u001b[39m\u001b[38;5;124m\"\u001b[39m)\n\u001b[0;32m    139\u001b[0m \u001b[38;5;28;01melif\u001b[39;00m numpy_version \u001b[38;5;241m>\u001b[39m (\u001b[38;5;241m1\u001b[39m, \u001b[38;5;241m21\u001b[39m):\n\u001b[1;32m--> 140\u001b[0m     \u001b[38;5;28;01mraise\u001b[39;00m \u001b[38;5;167;01mImportError\u001b[39;00m(\u001b[38;5;124m\"\u001b[39m\u001b[38;5;124mNumba needs NumPy 1.21 or less\u001b[39m\u001b[38;5;124m\"\u001b[39m)\n\u001b[0;32m    142\u001b[0m \u001b[38;5;28;01mtry\u001b[39;00m:\n\u001b[0;32m    143\u001b[0m     \u001b[38;5;28;01mimport\u001b[39;00m \u001b[38;5;21;01mscipy\u001b[39;00m\n",
      "\u001b[1;31mImportError\u001b[0m: Numba needs NumPy 1.21 or less"
     ]
    }
   ],
   "source": [
    "import vectorbt as vbt\n",
    "\n",
    "alpaca_data = vbt.AlpacaData.download(\n",
    "    \"AAPL\",\n",
    "    start='2 hours ago UTC',\n",
    "    end='15 minutes ago UTC',\n",
    "    interval='1m'\n",
    ")\n",
    "alpaca_data.get()"
   ]
  },
  {
   "cell_type": "code",
   "execution_count": null,
   "id": "5d6c6461-a066-4489-bf0b-ff0f34681226",
   "metadata": {},
   "outputs": [],
   "source": []
  }
 ],
 "metadata": {
  "kernelspec": {
   "display_name": "Python 3 (ipykernel)",
   "language": "python",
   "name": "python3"
  },
  "language_info": {
   "codemirror_mode": {
    "name": "ipython",
    "version": 3
   },
   "file_extension": ".py",
   "mimetype": "text/x-python",
   "name": "python",
   "nbconvert_exporter": "python",
   "pygments_lexer": "ipython3",
   "version": "3.9.10"
  }
 },
 "nbformat": 4,
 "nbformat_minor": 5
}
