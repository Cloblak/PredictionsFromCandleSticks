{
 "cells": [
  {
   "cell_type": "code",
   "execution_count": 19,
   "id": "494edb65-864b-4691-8c8c-4a9f9a4017a3",
   "metadata": {},
   "outputs": [],
   "source": [
    "# Import Dependencies\n",
    "import numpy as np\n",
    "import pandas as pd\n",
    "import alpaca_trade_api as tradeapi\n",
    "from datetime import datetime, timedelta, tzinfo, timezone, time,  date\n",
    "import os\n",
    "import sys\n",
    "import ast\n",
    "import threading\n",
    "import math\n",
    "import seaborn as sns\n",
    "import matplotlib.pyplot as plt\n",
    "import warnings\n",
    "from alive_progress import alive_bar\n",
    "import mplfinance as fplt\n",
    "\n",
    "try:\n",
    "    from config import *\n",
    "except:\n",
    "    from ..config import *\n",
    "\n",
    "# Establish api from where the data will be pulled\n",
    "api_paper = tradeapi.REST(PAPER_API_KEY, PAPER_SECRET_KEY, PAPER_BASE_URL, api_version='v2')"
   ]
  },
  {
   "cell_type": "markdown",
   "id": "aba6363f-72e4-42dc-b72b-b55801741688",
   "metadata": {},
   "source": [
    "### Functions"
   ]
  },
  {
   "cell_type": "code",
   "execution_count": 14,
   "id": "cdd9a451-a160-42d2-ae41-780a009120dd",
   "metadata": {},
   "outputs": [],
   "source": [
    "def pull_data(ticker, interval, api = api_paper, num_of_days = 180, offset_days = 0):\n",
    "    ticker_data_dict = None\n",
    "    ticker_data_dict = {}\n",
    "    monthly_data_dict = None\n",
    "    monthly_data_dict = {}\n",
    "    interval_loop_data = None\n",
    "    interval_loop_data = pd.DataFrame()\n",
    "    stock_data = None\n",
    "    \n",
    "    days_to_collect = num_of_days + offset_days\n",
    "\n",
    "    TZ = 'US/Eastern'\n",
    "\n",
    "    start = pd.to_datetime((datetime.now() - timedelta(days=days_to_collect)).strftime(\"%Y-%m-%d %H:%M\"), utc=True)\n",
    "    end = pd.to_datetime(datetime.now().strftime(\"%Y-%m-%d %H:%M\"), utc=True)\n",
    "\n",
    "    stock_data = api.get_bars(ticker, interval, start = start.isoformat(), end=end.isoformat(), adjustment=\"raw\").df\n",
    "    \n",
    "    interval_loop_data = pd.concat([interval_loop_data, stock_data])\n",
    "    df_start_ref = interval_loop_data.index[0]\n",
    "    start_str_ref = pd.to_datetime(start, utc=True)\n",
    "\n",
    "    while start_str_ref.value < ( pd.to_datetime(df_start_ref, utc=True) - pd.Timedelta(days=2.5)).value:\n",
    "        end_new = pd.to_datetime(interval_loop_data.index[0].strftime(\"%Y-%m-%d %H:%M\"), utc=True).isoformat()\n",
    "        stock_data_new = None\n",
    "        stock_data_new = api.get_bars(ticker, interval, start=start, end=end_new, adjustment=\"raw\").df\n",
    "        #stock_data_new = stock_data_new.reset_index()\n",
    "        interval_loop_data = interval_loop_data.append(stock_data_new).sort_values(by=['index'], ascending=True)\n",
    "        df_start_ref = interval_loop_data.index[0]\n",
    "        \n",
    "    stock_yr_min_df = interval_loop_data.copy()\n",
    "    stock_yr_min_df[\"Open\"] = stock_yr_min_df['open']\n",
    "    stock_yr_min_df[\"High\"]= stock_yr_min_df[\"high\"]\n",
    "    stock_yr_min_df[\"Low\"] = stock_yr_min_df[\"low\"]\n",
    "    stock_yr_min_df[\"Close\"] = stock_yr_min_df[\"close\"]\n",
    "    stock_yr_min_df[\"Volume\"] = stock_yr_min_df[\"volume\"]\n",
    "    stock_yr_min_df[\"VolumeWeightedAvgPrice\"] = stock_yr_min_df[\"vwap\"]\n",
    "    stock_yr_min_df[\"Time\"] = stock_yr_min_df.index.tz_convert(TZ)\n",
    "    stock_yr_min_df.index = stock_yr_min_df.index.tz_convert(TZ)\n",
    "    final_df = stock_yr_min_df.filter([\"Time\", \"Open\", \"High\", \"Low\", \"Close\", \"Volume\", \"VolumeWeightedAvgPrice\"], axis = 1)\n",
    "    \n",
    "    first_day = final_df.index[0]\n",
    "    last_day = final_df.index[-1] - pd.Timedelta(days= offset_days)\n",
    "    training_df =  final_df.loc[:last_day] \n",
    "    offset_df =  final_df.loc[last_day:]\n",
    "    \n",
    "    return training_df, offset_df"
   ]
  },
  {
   "cell_type": "markdown",
   "id": "f5326a54-7f7f-422a-87d0-9f7038dcb5ec",
   "metadata": {},
   "source": [
    "### Importing raw data"
   ]
  },
  {
   "cell_type": "code",
   "execution_count": 16,
   "id": "1d3a70a4-8824-45ec-a7f0-650a2b0e8d6f",
   "metadata": {},
   "outputs": [],
   "source": [
    "train_df, offset_df = pull_data(\"NVDA\", \"5Min\", api_paper, num_of_days = 180, offset_days = 0)"
   ]
  },
  {
   "cell_type": "markdown",
   "id": "dc77312a-c903-4524-b032-67436c6eb325",
   "metadata": {},
   "source": [
    "### Building Data Plots"
   ]
  },
  {
   "cell_type": "code",
   "execution_count": 17,
   "id": "b6203017-199f-403c-bcb0-5d2dce12fb2a",
   "metadata": {},
   "outputs": [
    {
     "data": {
      "text/html": [
       "<div>\n",
       "<style scoped>\n",
       "    .dataframe tbody tr th:only-of-type {\n",
       "        vertical-align: middle;\n",
       "    }\n",
       "\n",
       "    .dataframe tbody tr th {\n",
       "        vertical-align: top;\n",
       "    }\n",
       "\n",
       "    .dataframe thead th {\n",
       "        text-align: right;\n",
       "    }\n",
       "</style>\n",
       "<table border=\"1\" class=\"dataframe\">\n",
       "  <thead>\n",
       "    <tr style=\"text-align: right;\">\n",
       "      <th></th>\n",
       "      <th>Time</th>\n",
       "      <th>Open</th>\n",
       "      <th>High</th>\n",
       "      <th>Low</th>\n",
       "      <th>Close</th>\n",
       "      <th>Volume</th>\n",
       "      <th>VolumeWeightedAvgPrice</th>\n",
       "    </tr>\n",
       "    <tr>\n",
       "      <th>timestamp</th>\n",
       "      <th></th>\n",
       "      <th></th>\n",
       "      <th></th>\n",
       "      <th></th>\n",
       "      <th></th>\n",
       "      <th></th>\n",
       "      <th></th>\n",
       "    </tr>\n",
       "  </thead>\n",
       "  <tbody>\n",
       "    <tr>\n",
       "      <th>2021-10-04 04:00:00-04:00</th>\n",
       "      <td>2021-10-04 04:00:00-04:00</td>\n",
       "      <td>205.5300</td>\n",
       "      <td>206.3200</td>\n",
       "      <td>205.2400</td>\n",
       "      <td>205.4900</td>\n",
       "      <td>1187</td>\n",
       "      <td>205.709098</td>\n",
       "    </tr>\n",
       "    <tr>\n",
       "      <th>2021-10-04 04:10:00-04:00</th>\n",
       "      <td>2021-10-04 04:10:00-04:00</td>\n",
       "      <td>205.7500</td>\n",
       "      <td>205.7600</td>\n",
       "      <td>205.7500</td>\n",
       "      <td>205.7600</td>\n",
       "      <td>939</td>\n",
       "      <td>205.707934</td>\n",
       "    </tr>\n",
       "    <tr>\n",
       "      <th>2021-10-04 04:30:00-04:00</th>\n",
       "      <td>2021-10-04 04:30:00-04:00</td>\n",
       "      <td>205.0000</td>\n",
       "      <td>205.0000</td>\n",
       "      <td>205.0000</td>\n",
       "      <td>205.0000</td>\n",
       "      <td>756</td>\n",
       "      <td>205.000556</td>\n",
       "    </tr>\n",
       "    <tr>\n",
       "      <th>2021-10-04 04:35:00-04:00</th>\n",
       "      <td>2021-10-04 04:35:00-04:00</td>\n",
       "      <td>205.0000</td>\n",
       "      <td>205.0000</td>\n",
       "      <td>205.0000</td>\n",
       "      <td>205.0000</td>\n",
       "      <td>1241</td>\n",
       "      <td>204.999984</td>\n",
       "    </tr>\n",
       "    <tr>\n",
       "      <th>2021-10-04 04:40:00-04:00</th>\n",
       "      <td>2021-10-04 04:40:00-04:00</td>\n",
       "      <td>204.8200</td>\n",
       "      <td>204.8200</td>\n",
       "      <td>204.8200</td>\n",
       "      <td>204.8200</td>\n",
       "      <td>138</td>\n",
       "      <td>204.823696</td>\n",
       "    </tr>\n",
       "    <tr>\n",
       "      <th>...</th>\n",
       "      <td>...</td>\n",
       "      <td>...</td>\n",
       "      <td>...</td>\n",
       "      <td>...</td>\n",
       "      <td>...</td>\n",
       "      <td>...</td>\n",
       "      <td>...</td>\n",
       "    </tr>\n",
       "    <tr>\n",
       "      <th>2022-04-01 09:40:00-04:00</th>\n",
       "      <td>2022-04-01 09:40:00-04:00</td>\n",
       "      <td>270.3873</td>\n",
       "      <td>271.4999</td>\n",
       "      <td>269.7000</td>\n",
       "      <td>270.1600</td>\n",
       "      <td>1057462</td>\n",
       "      <td>270.561221</td>\n",
       "    </tr>\n",
       "    <tr>\n",
       "      <th>2022-04-01 09:45:00-04:00</th>\n",
       "      <td>2022-04-01 09:45:00-04:00</td>\n",
       "      <td>270.1900</td>\n",
       "      <td>270.1900</td>\n",
       "      <td>268.0700</td>\n",
       "      <td>268.5604</td>\n",
       "      <td>1215381</td>\n",
       "      <td>268.983689</td>\n",
       "    </tr>\n",
       "    <tr>\n",
       "      <th>2022-04-01 09:50:00-04:00</th>\n",
       "      <td>2022-04-01 09:50:00-04:00</td>\n",
       "      <td>268.5200</td>\n",
       "      <td>268.6500</td>\n",
       "      <td>266.5500</td>\n",
       "      <td>267.1625</td>\n",
       "      <td>1260342</td>\n",
       "      <td>267.454395</td>\n",
       "    </tr>\n",
       "    <tr>\n",
       "      <th>2022-04-01 09:55:00-04:00</th>\n",
       "      <td>2022-04-01 09:55:00-04:00</td>\n",
       "      <td>267.2000</td>\n",
       "      <td>268.2499</td>\n",
       "      <td>266.2700</td>\n",
       "      <td>268.1900</td>\n",
       "      <td>1270404</td>\n",
       "      <td>267.153750</td>\n",
       "    </tr>\n",
       "    <tr>\n",
       "      <th>2022-04-01 10:00:00-04:00</th>\n",
       "      <td>2022-04-01 10:00:00-04:00</td>\n",
       "      <td>268.1250</td>\n",
       "      <td>268.1291</td>\n",
       "      <td>266.7101</td>\n",
       "      <td>267.6200</td>\n",
       "      <td>812633</td>\n",
       "      <td>267.375985</td>\n",
       "    </tr>\n",
       "  </tbody>\n",
       "</table>\n",
       "<p>23058 rows × 7 columns</p>\n",
       "</div>"
      ],
      "text/plain": [
       "                                               Time      Open      High  \\\n",
       "timestamp                                                                 \n",
       "2021-10-04 04:00:00-04:00 2021-10-04 04:00:00-04:00  205.5300  206.3200   \n",
       "2021-10-04 04:10:00-04:00 2021-10-04 04:10:00-04:00  205.7500  205.7600   \n",
       "2021-10-04 04:30:00-04:00 2021-10-04 04:30:00-04:00  205.0000  205.0000   \n",
       "2021-10-04 04:35:00-04:00 2021-10-04 04:35:00-04:00  205.0000  205.0000   \n",
       "2021-10-04 04:40:00-04:00 2021-10-04 04:40:00-04:00  204.8200  204.8200   \n",
       "...                                             ...       ...       ...   \n",
       "2022-04-01 09:40:00-04:00 2022-04-01 09:40:00-04:00  270.3873  271.4999   \n",
       "2022-04-01 09:45:00-04:00 2022-04-01 09:45:00-04:00  270.1900  270.1900   \n",
       "2022-04-01 09:50:00-04:00 2022-04-01 09:50:00-04:00  268.5200  268.6500   \n",
       "2022-04-01 09:55:00-04:00 2022-04-01 09:55:00-04:00  267.2000  268.2499   \n",
       "2022-04-01 10:00:00-04:00 2022-04-01 10:00:00-04:00  268.1250  268.1291   \n",
       "\n",
       "                                Low     Close   Volume  VolumeWeightedAvgPrice  \n",
       "timestamp                                                                       \n",
       "2021-10-04 04:00:00-04:00  205.2400  205.4900     1187              205.709098  \n",
       "2021-10-04 04:10:00-04:00  205.7500  205.7600      939              205.707934  \n",
       "2021-10-04 04:30:00-04:00  205.0000  205.0000      756              205.000556  \n",
       "2021-10-04 04:35:00-04:00  205.0000  205.0000     1241              204.999984  \n",
       "2021-10-04 04:40:00-04:00  204.8200  204.8200      138              204.823696  \n",
       "...                             ...       ...      ...                     ...  \n",
       "2022-04-01 09:40:00-04:00  269.7000  270.1600  1057462              270.561221  \n",
       "2022-04-01 09:45:00-04:00  268.0700  268.5604  1215381              268.983689  \n",
       "2022-04-01 09:50:00-04:00  266.5500  267.1625  1260342              267.454395  \n",
       "2022-04-01 09:55:00-04:00  266.2700  268.1900  1270404              267.153750  \n",
       "2022-04-01 10:00:00-04:00  266.7101  267.6200   812633              267.375985  \n",
       "\n",
       "[23058 rows x 7 columns]"
      ]
     },
     "execution_count": 17,
     "metadata": {},
     "output_type": "execute_result"
    }
   ],
   "source": [
    "train_df"
   ]
  },
  {
   "cell_type": "code",
   "execution_count": 26,
   "id": "bf1732ec-889b-41d0-89ee-0f8dde39b7d0",
   "metadata": {},
   "outputs": [
    {
     "data": {
      "text/plain": [
       "['binance',\n",
       " 'blueskies',\n",
       " 'brasil',\n",
       " 'charles',\n",
       " 'checkers',\n",
       " 'classic',\n",
       " 'default',\n",
       " 'ibd',\n",
       " 'kenan',\n",
       " 'mike',\n",
       " 'nightclouds',\n",
       " 'sas',\n",
       " 'starsandstripes',\n",
       " 'yahoo']"
      ]
     },
     "execution_count": 26,
     "metadata": {},
     "output_type": "execute_result"
    }
   ],
   "source": [
    "fplt.available_styles()"
   ]
  },
  {
   "cell_type": "code",
   "execution_count": 42,
   "id": "c8379f97-cc25-42ad-a35e-2b54ab58371f",
   "metadata": {},
   "outputs": [
    {
     "data": {
      "image/png": "[encoded data removed]",
      "text/plain": [
       "<Figure size 800x575 with 4 Axes>"
      ]
     },
     "metadata": {},
     "output_type": "display_data"
    }
   ],
   "source": [
    "fplt.plot(\n",
    "            train_df[100:150],\n",
    "            type='candle',\n",
    "            style='ibd',\n",
    "            volume=True,\n",
    "            show_nontrading=False\n",
    "            )"
   ]
  },
  {
   "cell_type": "code",
   "execution_count": 33,
   "id": "e2bd0860-b0e6-4df2-a1c7-c1e35727c2c2",
   "metadata": {},
   "outputs": [
    {
     "data": {
      "image/png": "[encoded data removed]",
      "text/plain": [
       "<Figure size 800x575 with 4 Axes>"
      ]
     },
     "metadata": {},
     "output_type": "display_data"
    }
   ],
   "source": [
    "fplt.plot(\n",
    "            train_df[100:150],\n",
    "            type='candle',\n",
    "            style='yahoo',\n",
    "            volume=True,\n",
    "            )"
   ]
  },
  {
   "cell_type": "code",
   "execution_count": null,
   "id": "d6def070-3bac-49bd-8bff-b1ea9888e18e",
   "metadata": {},
   "outputs": [],
   "source": []
  }
 ],
 "metadata": {
  "kernelspec": {
   "display_name": "Python 3 (ipykernel)",
   "language": "python",
   "name": "python3"
  },
  "language_info": {
   "codemirror_mode": {
    "name": "ipython",
    "version": 3
   },
   "file_extension": ".py",
   "mimetype": "text/x-python",
   "name": "python",
   "nbconvert_exporter": "python",
   "pygments_lexer": "ipython3",
   "version": "3.9.10"
  }
 },
 "nbformat": 4,
 "nbformat_minor": 5
}
